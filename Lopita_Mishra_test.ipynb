{
  "nbformat": 4,
  "nbformat_minor": 0,
  "metadata": {
    "colab": {
      "provenance": [],
      "authorship_tag": "ABX9TyNY9OOxWPOpSPE6e9dtZZRH",
      "include_colab_link": true
    },
    "kernelspec": {
      "name": "python3",
      "display_name": "Python 3"
    },
    "language_info": {
      "name": "python"
    }
  },
  "cells": [
    {
      "cell_type": "markdown",
      "metadata": {
        "id": "view-in-github",
        "colab_type": "text"
      },
      "source": [
        "<a href=\"https://colab.research.google.com/github/MLopita/E-Commerce-Performance-Analysis/blob/main/Lopita_Mishra_test.ipynb\" target=\"_parent\"><img src=\"https://colab.research.google.com/assets/colab-badge.svg\" alt=\"Open In Colab\"/></a>"
      ]
    },
    {
      "cell_type": "code",
      "execution_count": 747,
      "metadata": {
        "id": "B0taEz8tqp-I"
      },
      "outputs": [],
      "source": [
        "import pandas as pd\n",
        "import numpy as np"
      ]
    },
    {
      "cell_type": "code",
      "source": [
        "df=pd.read_csv(\"/content/sales_dataset.csv\")"
      ],
      "metadata": {
        "colab": {
          "base_uri": "https://localhost:8080/"
        },
        "id": "ON7Qrp6gXtmq",
        "outputId": "cb1ada6c-188f-4b97-f274-e87795f9986d"
      },
      "execution_count": 748,
      "outputs": [
        {
          "output_type": "stream",
          "name": "stderr",
          "text": [
            "/tmp/ipython-input-1267798104.py:1: DtypeWarning: Columns (22) have mixed types. Specify dtype option on import or set low_memory=False.\n",
            "  df=pd.read_csv(\"/content/sales_dataset.csv\")\n"
          ]
        }
      ]
    },
    {
      "cell_type": "code",
      "source": [
        "df.info()"
      ],
      "metadata": {
        "colab": {
          "base_uri": "https://localhost:8080/"
        },
        "id": "dwIBNhnJwdzK",
        "outputId": "5ea2130e-d7b2-4b6b-f819-d311bdc6ba91"
      },
      "execution_count": 749,
      "outputs": [
        {
          "output_type": "stream",
          "name": "stdout",
          "text": [
            "<class 'pandas.core.frame.DataFrame'>\n",
            "RangeIndex: 128949 entries, 0 to 128948\n",
            "Data columns (total 23 columns):\n",
            " #   Column              Non-Null Count   Dtype  \n",
            "---  ------              --------------   -----  \n",
            " 0   Order ID            128949 non-null  object \n",
            " 1   Date                128949 non-null  object \n",
            " 2   Status              128949 non-null  object \n",
            " 3   Fulfilment          128949 non-null  object \n",
            " 4   Sales Channel       128949 non-null  object \n",
            " 5   ship-service-level  128949 non-null  object \n",
            " 6   Style               128949 non-null  object \n",
            " 7   SKU                 128949 non-null  object \n",
            " 8   Category            128949 non-null  object \n",
            " 9   Size                128949 non-null  object \n",
            " 10  ASIN                128949 non-null  object \n",
            " 11  Courier Status      122078 non-null  object \n",
            " 12  Qty                 128949 non-null  int64  \n",
            " 13  currency            121155 non-null  object \n",
            " 14  Amount              121155 non-null  float64\n",
            " 15  ship-city           128916 non-null  object \n",
            " 16  ship-state          128916 non-null  object \n",
            " 17  ship-postal-code    128916 non-null  float64\n",
            " 18  ship-country        128916 non-null  object \n",
            " 19  promotion-ids       79807 non-null   object \n",
            " 20  B2B                 128949 non-null  bool   \n",
            " 21  fulfilled-by        39270 non-null   object \n",
            " 22  Unnamed: 22         79908 non-null   object \n",
            "dtypes: bool(1), float64(2), int64(1), object(19)\n",
            "memory usage: 21.8+ MB\n"
          ]
        }
      ]
    },
    {
      "cell_type": "code",
      "source": [
        "df.head()"
      ],
      "metadata": {
        "colab": {
          "base_uri": "https://localhost:8080/",
          "height": 533
        },
        "id": "ng2fa15P1YBH",
        "outputId": "cbf491ee-b304-467d-8a5d-07a02fd20246"
      },
      "execution_count": 750,
      "outputs": [
        {
          "output_type": "execute_result",
          "data": {
            "text/plain": [
              "              Order ID      Date                        Status Fulfilment  \\\n",
              "0  405-8078784-5731545  04-30-22                     Cancelled   Merchant   \n",
              "1  171-9198151-1101146  04-30-22  Shipped - Delivered to Buyer   Merchant   \n",
              "2  404-0687676-7273146  04-30-22                       Shipped     Amazon   \n",
              "3  403-9615377-8133951  04-30-22                     Cancelled   Merchant   \n",
              "4  407-1069790-7240320  04-30-22                       Shipped     Amazon   \n",
              "\n",
              "  Sales Channel  ship-service-level    Style              SKU       Category  \\\n",
              "0      Amazon.in           Standard   SET389   SET389-KR-NP-S            Set   \n",
              "1      Amazon.in           Standard  JNE3781  JNE3781-KR-XXXL          kurta   \n",
              "2      Amazon.in          Expedited  JNE3371    JNE3371-KR-XL          kurta   \n",
              "3      Amazon.in           Standard    J0341       J0341-DR-L  Western Dress   \n",
              "4      Amazon.in          Expedited  JNE3671  JNE3671-TU-XXXL            Top   \n",
              "\n",
              "  Size  ... currency  Amount    ship-city   ship-state  ship-postal-code  \\\n",
              "0    S  ...      INR  647.62       MUMBAI  MAHARASHTRA          400081.0   \n",
              "1  3XL  ...      INR  406.00    BENGALURU    KARNATAKA          560085.0   \n",
              "2   XL  ...      INR  329.00  NAVI MUMBAI  MAHARASHTRA          410210.0   \n",
              "3    L  ...      INR  753.33   PUDUCHERRY   PUDUCHERRY          605008.0   \n",
              "4  3XL  ...      INR  574.00      CHENNAI   TAMIL NADU          600073.0   \n",
              "\n",
              "  ship-country                                      promotion-ids    B2B  \\\n",
              "0           IN                                                NaN  False   \n",
              "1           IN  Amazon PLCC Free-Financing Universal Merchant ...  False   \n",
              "2           IN       IN Core Free Shipping 2015/04/08 23-48-5-108   True   \n",
              "3           IN                                                NaN  False   \n",
              "4           IN                                                NaN  False   \n",
              "\n",
              "  fulfilled-by Unnamed: 22  \n",
              "0    Easy Ship         NaN  \n",
              "1    Easy Ship         NaN  \n",
              "2          NaN         NaN  \n",
              "3    Easy Ship         NaN  \n",
              "4          NaN         NaN  \n",
              "\n",
              "[5 rows x 23 columns]"
            ],
            "text/html": [
              "\n",
              "  <div id=\"df-cca4c774-5b13-48b5-8667-4df6fddfde62\" class=\"colab-df-container\">\n",
              "    <div>\n",
              "<style scoped>\n",
              "    .dataframe tbody tr th:only-of-type {\n",
              "        vertical-align: middle;\n",
              "    }\n",
              "\n",
              "    .dataframe tbody tr th {\n",
              "        vertical-align: top;\n",
              "    }\n",
              "\n",
              "    .dataframe thead th {\n",
              "        text-align: right;\n",
              "    }\n",
              "</style>\n",
              "<table border=\"1\" class=\"dataframe\">\n",
              "  <thead>\n",
              "    <tr style=\"text-align: right;\">\n",
              "      <th></th>\n",
              "      <th>Order ID</th>\n",
              "      <th>Date</th>\n",
              "      <th>Status</th>\n",
              "      <th>Fulfilment</th>\n",
              "      <th>Sales Channel</th>\n",
              "      <th>ship-service-level</th>\n",
              "      <th>Style</th>\n",
              "      <th>SKU</th>\n",
              "      <th>Category</th>\n",
              "      <th>Size</th>\n",
              "      <th>...</th>\n",
              "      <th>currency</th>\n",
              "      <th>Amount</th>\n",
              "      <th>ship-city</th>\n",
              "      <th>ship-state</th>\n",
              "      <th>ship-postal-code</th>\n",
              "      <th>ship-country</th>\n",
              "      <th>promotion-ids</th>\n",
              "      <th>B2B</th>\n",
              "      <th>fulfilled-by</th>\n",
              "      <th>Unnamed: 22</th>\n",
              "    </tr>\n",
              "  </thead>\n",
              "  <tbody>\n",
              "    <tr>\n",
              "      <th>0</th>\n",
              "      <td>405-8078784-5731545</td>\n",
              "      <td>04-30-22</td>\n",
              "      <td>Cancelled</td>\n",
              "      <td>Merchant</td>\n",
              "      <td>Amazon.in</td>\n",
              "      <td>Standard</td>\n",
              "      <td>SET389</td>\n",
              "      <td>SET389-KR-NP-S</td>\n",
              "      <td>Set</td>\n",
              "      <td>S</td>\n",
              "      <td>...</td>\n",
              "      <td>INR</td>\n",
              "      <td>647.62</td>\n",
              "      <td>MUMBAI</td>\n",
              "      <td>MAHARASHTRA</td>\n",
              "      <td>400081.0</td>\n",
              "      <td>IN</td>\n",
              "      <td>NaN</td>\n",
              "      <td>False</td>\n",
              "      <td>Easy Ship</td>\n",
              "      <td>NaN</td>\n",
              "    </tr>\n",
              "    <tr>\n",
              "      <th>1</th>\n",
              "      <td>171-9198151-1101146</td>\n",
              "      <td>04-30-22</td>\n",
              "      <td>Shipped - Delivered to Buyer</td>\n",
              "      <td>Merchant</td>\n",
              "      <td>Amazon.in</td>\n",
              "      <td>Standard</td>\n",
              "      <td>JNE3781</td>\n",
              "      <td>JNE3781-KR-XXXL</td>\n",
              "      <td>kurta</td>\n",
              "      <td>3XL</td>\n",
              "      <td>...</td>\n",
              "      <td>INR</td>\n",
              "      <td>406.00</td>\n",
              "      <td>BENGALURU</td>\n",
              "      <td>KARNATAKA</td>\n",
              "      <td>560085.0</td>\n",
              "      <td>IN</td>\n",
              "      <td>Amazon PLCC Free-Financing Universal Merchant ...</td>\n",
              "      <td>False</td>\n",
              "      <td>Easy Ship</td>\n",
              "      <td>NaN</td>\n",
              "    </tr>\n",
              "    <tr>\n",
              "      <th>2</th>\n",
              "      <td>404-0687676-7273146</td>\n",
              "      <td>04-30-22</td>\n",
              "      <td>Shipped</td>\n",
              "      <td>Amazon</td>\n",
              "      <td>Amazon.in</td>\n",
              "      <td>Expedited</td>\n",
              "      <td>JNE3371</td>\n",
              "      <td>JNE3371-KR-XL</td>\n",
              "      <td>kurta</td>\n",
              "      <td>XL</td>\n",
              "      <td>...</td>\n",
              "      <td>INR</td>\n",
              "      <td>329.00</td>\n",
              "      <td>NAVI MUMBAI</td>\n",
              "      <td>MAHARASHTRA</td>\n",
              "      <td>410210.0</td>\n",
              "      <td>IN</td>\n",
              "      <td>IN Core Free Shipping 2015/04/08 23-48-5-108</td>\n",
              "      <td>True</td>\n",
              "      <td>NaN</td>\n",
              "      <td>NaN</td>\n",
              "    </tr>\n",
              "    <tr>\n",
              "      <th>3</th>\n",
              "      <td>403-9615377-8133951</td>\n",
              "      <td>04-30-22</td>\n",
              "      <td>Cancelled</td>\n",
              "      <td>Merchant</td>\n",
              "      <td>Amazon.in</td>\n",
              "      <td>Standard</td>\n",
              "      <td>J0341</td>\n",
              "      <td>J0341-DR-L</td>\n",
              "      <td>Western Dress</td>\n",
              "      <td>L</td>\n",
              "      <td>...</td>\n",
              "      <td>INR</td>\n",
              "      <td>753.33</td>\n",
              "      <td>PUDUCHERRY</td>\n",
              "      <td>PUDUCHERRY</td>\n",
              "      <td>605008.0</td>\n",
              "      <td>IN</td>\n",
              "      <td>NaN</td>\n",
              "      <td>False</td>\n",
              "      <td>Easy Ship</td>\n",
              "      <td>NaN</td>\n",
              "    </tr>\n",
              "    <tr>\n",
              "      <th>4</th>\n",
              "      <td>407-1069790-7240320</td>\n",
              "      <td>04-30-22</td>\n",
              "      <td>Shipped</td>\n",
              "      <td>Amazon</td>\n",
              "      <td>Amazon.in</td>\n",
              "      <td>Expedited</td>\n",
              "      <td>JNE3671</td>\n",
              "      <td>JNE3671-TU-XXXL</td>\n",
              "      <td>Top</td>\n",
              "      <td>3XL</td>\n",
              "      <td>...</td>\n",
              "      <td>INR</td>\n",
              "      <td>574.00</td>\n",
              "      <td>CHENNAI</td>\n",
              "      <td>TAMIL NADU</td>\n",
              "      <td>600073.0</td>\n",
              "      <td>IN</td>\n",
              "      <td>NaN</td>\n",
              "      <td>False</td>\n",
              "      <td>NaN</td>\n",
              "      <td>NaN</td>\n",
              "    </tr>\n",
              "  </tbody>\n",
              "</table>\n",
              "<p>5 rows × 23 columns</p>\n",
              "</div>\n",
              "    <div class=\"colab-df-buttons\">\n",
              "\n",
              "  <div class=\"colab-df-container\">\n",
              "    <button class=\"colab-df-convert\" onclick=\"convertToInteractive('df-cca4c774-5b13-48b5-8667-4df6fddfde62')\"\n",
              "            title=\"Convert this dataframe to an interactive table.\"\n",
              "            style=\"display:none;\">\n",
              "\n",
              "  <svg xmlns=\"http://www.w3.org/2000/svg\" height=\"24px\" viewBox=\"0 -960 960 960\">\n",
              "    <path d=\"M120-120v-720h720v720H120Zm60-500h600v-160H180v160Zm220 220h160v-160H400v160Zm0 220h160v-160H400v160ZM180-400h160v-160H180v160Zm440 0h160v-160H620v160ZM180-180h160v-160H180v160Zm440 0h160v-160H620v160Z\"/>\n",
              "  </svg>\n",
              "    </button>\n",
              "\n",
              "  <style>\n",
              "    .colab-df-container {\n",
              "      display:flex;\n",
              "      gap: 12px;\n",
              "    }\n",
              "\n",
              "    .colab-df-convert {\n",
              "      background-color: #E8F0FE;\n",
              "      border: none;\n",
              "      border-radius: 50%;\n",
              "      cursor: pointer;\n",
              "      display: none;\n",
              "      fill: #1967D2;\n",
              "      height: 32px;\n",
              "      padding: 0 0 0 0;\n",
              "      width: 32px;\n",
              "    }\n",
              "\n",
              "    .colab-df-convert:hover {\n",
              "      background-color: #E2EBFA;\n",
              "      box-shadow: 0px 1px 2px rgba(60, 64, 67, 0.3), 0px 1px 3px 1px rgba(60, 64, 67, 0.15);\n",
              "      fill: #174EA6;\n",
              "    }\n",
              "\n",
              "    .colab-df-buttons div {\n",
              "      margin-bottom: 4px;\n",
              "    }\n",
              "\n",
              "    [theme=dark] .colab-df-convert {\n",
              "      background-color: #3B4455;\n",
              "      fill: #D2E3FC;\n",
              "    }\n",
              "\n",
              "    [theme=dark] .colab-df-convert:hover {\n",
              "      background-color: #434B5C;\n",
              "      box-shadow: 0px 1px 3px 1px rgba(0, 0, 0, 0.15);\n",
              "      filter: drop-shadow(0px 1px 2px rgba(0, 0, 0, 0.3));\n",
              "      fill: #FFFFFF;\n",
              "    }\n",
              "  </style>\n",
              "\n",
              "    <script>\n",
              "      const buttonEl =\n",
              "        document.querySelector('#df-cca4c774-5b13-48b5-8667-4df6fddfde62 button.colab-df-convert');\n",
              "      buttonEl.style.display =\n",
              "        google.colab.kernel.accessAllowed ? 'block' : 'none';\n",
              "\n",
              "      async function convertToInteractive(key) {\n",
              "        const element = document.querySelector('#df-cca4c774-5b13-48b5-8667-4df6fddfde62');\n",
              "        const dataTable =\n",
              "          await google.colab.kernel.invokeFunction('convertToInteractive',\n",
              "                                                    [key], {});\n",
              "        if (!dataTable) return;\n",
              "\n",
              "        const docLinkHtml = 'Like what you see? Visit the ' +\n",
              "          '<a target=\"_blank\" href=https://colab.research.google.com/notebooks/data_table.ipynb>data table notebook</a>'\n",
              "          + ' to learn more about interactive tables.';\n",
              "        element.innerHTML = '';\n",
              "        dataTable['output_type'] = 'display_data';\n",
              "        await google.colab.output.renderOutput(dataTable, element);\n",
              "        const docLink = document.createElement('div');\n",
              "        docLink.innerHTML = docLinkHtml;\n",
              "        element.appendChild(docLink);\n",
              "      }\n",
              "    </script>\n",
              "  </div>\n",
              "\n",
              "\n",
              "    <div id=\"df-09b3542b-d203-41a3-8af8-20f0211ec8fb\">\n",
              "      <button class=\"colab-df-quickchart\" onclick=\"quickchart('df-09b3542b-d203-41a3-8af8-20f0211ec8fb')\"\n",
              "                title=\"Suggest charts\"\n",
              "                style=\"display:none;\">\n",
              "\n",
              "<svg xmlns=\"http://www.w3.org/2000/svg\" height=\"24px\"viewBox=\"0 0 24 24\"\n",
              "     width=\"24px\">\n",
              "    <g>\n",
              "        <path d=\"M19 3H5c-1.1 0-2 .9-2 2v14c0 1.1.9 2 2 2h14c1.1 0 2-.9 2-2V5c0-1.1-.9-2-2-2zM9 17H7v-7h2v7zm4 0h-2V7h2v10zm4 0h-2v-4h2v4z\"/>\n",
              "    </g>\n",
              "</svg>\n",
              "      </button>\n",
              "\n",
              "<style>\n",
              "  .colab-df-quickchart {\n",
              "      --bg-color: #E8F0FE;\n",
              "      --fill-color: #1967D2;\n",
              "      --hover-bg-color: #E2EBFA;\n",
              "      --hover-fill-color: #174EA6;\n",
              "      --disabled-fill-color: #AAA;\n",
              "      --disabled-bg-color: #DDD;\n",
              "  }\n",
              "\n",
              "  [theme=dark] .colab-df-quickchart {\n",
              "      --bg-color: #3B4455;\n",
              "      --fill-color: #D2E3FC;\n",
              "      --hover-bg-color: #434B5C;\n",
              "      --hover-fill-color: #FFFFFF;\n",
              "      --disabled-bg-color: #3B4455;\n",
              "      --disabled-fill-color: #666;\n",
              "  }\n",
              "\n",
              "  .colab-df-quickchart {\n",
              "    background-color: var(--bg-color);\n",
              "    border: none;\n",
              "    border-radius: 50%;\n",
              "    cursor: pointer;\n",
              "    display: none;\n",
              "    fill: var(--fill-color);\n",
              "    height: 32px;\n",
              "    padding: 0;\n",
              "    width: 32px;\n",
              "  }\n",
              "\n",
              "  .colab-df-quickchart:hover {\n",
              "    background-color: var(--hover-bg-color);\n",
              "    box-shadow: 0 1px 2px rgba(60, 64, 67, 0.3), 0 1px 3px 1px rgba(60, 64, 67, 0.15);\n",
              "    fill: var(--button-hover-fill-color);\n",
              "  }\n",
              "\n",
              "  .colab-df-quickchart-complete:disabled,\n",
              "  .colab-df-quickchart-complete:disabled:hover {\n",
              "    background-color: var(--disabled-bg-color);\n",
              "    fill: var(--disabled-fill-color);\n",
              "    box-shadow: none;\n",
              "  }\n",
              "\n",
              "  .colab-df-spinner {\n",
              "    border: 2px solid var(--fill-color);\n",
              "    border-color: transparent;\n",
              "    border-bottom-color: var(--fill-color);\n",
              "    animation:\n",
              "      spin 1s steps(1) infinite;\n",
              "  }\n",
              "\n",
              "  @keyframes spin {\n",
              "    0% {\n",
              "      border-color: transparent;\n",
              "      border-bottom-color: var(--fill-color);\n",
              "      border-left-color: var(--fill-color);\n",
              "    }\n",
              "    20% {\n",
              "      border-color: transparent;\n",
              "      border-left-color: var(--fill-color);\n",
              "      border-top-color: var(--fill-color);\n",
              "    }\n",
              "    30% {\n",
              "      border-color: transparent;\n",
              "      border-left-color: var(--fill-color);\n",
              "      border-top-color: var(--fill-color);\n",
              "      border-right-color: var(--fill-color);\n",
              "    }\n",
              "    40% {\n",
              "      border-color: transparent;\n",
              "      border-right-color: var(--fill-color);\n",
              "      border-top-color: var(--fill-color);\n",
              "    }\n",
              "    60% {\n",
              "      border-color: transparent;\n",
              "      border-right-color: var(--fill-color);\n",
              "    }\n",
              "    80% {\n",
              "      border-color: transparent;\n",
              "      border-right-color: var(--fill-color);\n",
              "      border-bottom-color: var(--fill-color);\n",
              "    }\n",
              "    90% {\n",
              "      border-color: transparent;\n",
              "      border-bottom-color: var(--fill-color);\n",
              "    }\n",
              "  }\n",
              "</style>\n",
              "\n",
              "      <script>\n",
              "        async function quickchart(key) {\n",
              "          const quickchartButtonEl =\n",
              "            document.querySelector('#' + key + ' button');\n",
              "          quickchartButtonEl.disabled = true;  // To prevent multiple clicks.\n",
              "          quickchartButtonEl.classList.add('colab-df-spinner');\n",
              "          try {\n",
              "            const charts = await google.colab.kernel.invokeFunction(\n",
              "                'suggestCharts', [key], {});\n",
              "          } catch (error) {\n",
              "            console.error('Error during call to suggestCharts:', error);\n",
              "          }\n",
              "          quickchartButtonEl.classList.remove('colab-df-spinner');\n",
              "          quickchartButtonEl.classList.add('colab-df-quickchart-complete');\n",
              "        }\n",
              "        (() => {\n",
              "          let quickchartButtonEl =\n",
              "            document.querySelector('#df-09b3542b-d203-41a3-8af8-20f0211ec8fb button');\n",
              "          quickchartButtonEl.style.display =\n",
              "            google.colab.kernel.accessAllowed ? 'block' : 'none';\n",
              "        })();\n",
              "      </script>\n",
              "    </div>\n",
              "\n",
              "    </div>\n",
              "  </div>\n"
            ],
            "application/vnd.google.colaboratory.intrinsic+json": {
              "type": "dataframe",
              "variable_name": "df"
            }
          },
          "metadata": {},
          "execution_count": 750
        }
      ]
    },
    {
      "cell_type": "code",
      "source": [
        "df.info()"
      ],
      "metadata": {
        "colab": {
          "base_uri": "https://localhost:8080/"
        },
        "id": "sMMsbT3nc9Xw",
        "outputId": "1ab3e84d-f629-420e-f30c-6e4a879549f3"
      },
      "execution_count": 751,
      "outputs": [
        {
          "output_type": "stream",
          "name": "stdout",
          "text": [
            "<class 'pandas.core.frame.DataFrame'>\n",
            "RangeIndex: 128949 entries, 0 to 128948\n",
            "Data columns (total 23 columns):\n",
            " #   Column              Non-Null Count   Dtype  \n",
            "---  ------              --------------   -----  \n",
            " 0   Order ID            128949 non-null  object \n",
            " 1   Date                128949 non-null  object \n",
            " 2   Status              128949 non-null  object \n",
            " 3   Fulfilment          128949 non-null  object \n",
            " 4   Sales Channel       128949 non-null  object \n",
            " 5   ship-service-level  128949 non-null  object \n",
            " 6   Style               128949 non-null  object \n",
            " 7   SKU                 128949 non-null  object \n",
            " 8   Category            128949 non-null  object \n",
            " 9   Size                128949 non-null  object \n",
            " 10  ASIN                128949 non-null  object \n",
            " 11  Courier Status      122078 non-null  object \n",
            " 12  Qty                 128949 non-null  int64  \n",
            " 13  currency            121155 non-null  object \n",
            " 14  Amount              121155 non-null  float64\n",
            " 15  ship-city           128916 non-null  object \n",
            " 16  ship-state          128916 non-null  object \n",
            " 17  ship-postal-code    128916 non-null  float64\n",
            " 18  ship-country        128916 non-null  object \n",
            " 19  promotion-ids       79807 non-null   object \n",
            " 20  B2B                 128949 non-null  bool   \n",
            " 21  fulfilled-by        39270 non-null   object \n",
            " 22  Unnamed: 22         79908 non-null   object \n",
            "dtypes: bool(1), float64(2), int64(1), object(19)\n",
            "memory usage: 21.8+ MB\n"
          ]
        }
      ]
    },
    {
      "cell_type": "markdown",
      "source": [
        "**Data cleaning**"
      ],
      "metadata": {
        "id": "_bEm3Z9movZg"
      }
    },
    {
      "cell_type": "code",
      "source": [
        "df.drop_duplicates(inplace= True)"
      ],
      "metadata": {
        "id": "raHI6SJLJGko"
      },
      "execution_count": 752,
      "outputs": []
    },
    {
      "cell_type": "code",
      "source": [
        "print(df['Date'].head())\n",
        "print(df['Date'].dtype)"
      ],
      "metadata": {
        "colab": {
          "base_uri": "https://localhost:8080/"
        },
        "id": "xK3fDi4O73Dp",
        "outputId": "ec1e04ed-55a3-447b-f41b-2ab5d6648cb1"
      },
      "execution_count": 753,
      "outputs": [
        {
          "output_type": "stream",
          "name": "stdout",
          "text": [
            "0    04-30-22\n",
            "1    04-30-22\n",
            "2    04-30-22\n",
            "3    04-30-22\n",
            "4    04-30-22\n",
            "Name: Date, dtype: object\n",
            "object\n"
          ]
        }
      ]
    },
    {
      "cell_type": "code",
      "source": [
        "df.columns = df.columns.str.strip().str.lower().str.replace(' ', '_').str.replace('-', '_')"
      ],
      "metadata": {
        "id": "wm3vacIe7u2C"
      },
      "execution_count": 754,
      "outputs": []
    },
    {
      "cell_type": "code",
      "source": [
        "df.info()"
      ],
      "metadata": {
        "colab": {
          "base_uri": "https://localhost:8080/"
        },
        "id": "iRlRdLTZWHrF",
        "outputId": "b0725119-00b1-4014-e50d-ec03c6a35762"
      },
      "execution_count": 755,
      "outputs": [
        {
          "output_type": "stream",
          "name": "stdout",
          "text": [
            "<class 'pandas.core.frame.DataFrame'>\n",
            "Index: 128943 entries, 0 to 128948\n",
            "Data columns (total 23 columns):\n",
            " #   Column              Non-Null Count   Dtype  \n",
            "---  ------              --------------   -----  \n",
            " 0   order_id            128943 non-null  object \n",
            " 1   date                128943 non-null  object \n",
            " 2   status              128943 non-null  object \n",
            " 3   fulfilment          128943 non-null  object \n",
            " 4   sales_channel       128943 non-null  object \n",
            " 5   ship_service_level  128943 non-null  object \n",
            " 6   style               128943 non-null  object \n",
            " 7   sku                 128943 non-null  object \n",
            " 8   category            128943 non-null  object \n",
            " 9   size                128943 non-null  object \n",
            " 10  asin                128943 non-null  object \n",
            " 11  courier_status      122072 non-null  object \n",
            " 12  qty                 128943 non-null  int64  \n",
            " 13  currency            121152 non-null  object \n",
            " 14  amount              121152 non-null  float64\n",
            " 15  ship_city           128910 non-null  object \n",
            " 16  ship_state          128910 non-null  object \n",
            " 17  ship_postal_code    128910 non-null  float64\n",
            " 18  ship_country        128910 non-null  object \n",
            " 19  promotion_ids       79804 non-null   object \n",
            " 20  b2b                 128943 non-null  bool   \n",
            " 21  fulfilled_by        39270 non-null   object \n",
            " 22  unnamed:_22         79904 non-null   object \n",
            "dtypes: bool(1), float64(2), int64(1), object(19)\n",
            "memory usage: 22.7+ MB\n"
          ]
        }
      ]
    },
    {
      "cell_type": "code",
      "source": [
        "print(\"Nulls in Order ID:\", df['order_id'].isnull().sum())\n",
        "print(\"Duplicate Order IDs:\", df['order_id'].duplicated().sum())"
      ],
      "metadata": {
        "colab": {
          "base_uri": "https://localhost:8080/"
        },
        "id": "C3xgbyyLWbgM",
        "outputId": "5f46af55-9f3d-4801-bf1e-603a96004f8d"
      },
      "execution_count": 756,
      "outputs": [
        {
          "output_type": "stream",
          "name": "stdout",
          "text": [
            "Nulls in Order ID: 0\n",
            "Duplicate Order IDs: 8591\n"
          ]
        }
      ]
    },
    {
      "cell_type": "code",
      "source": [
        "df['order_id'] = df['order_id'].astype(str).str.strip()"
      ],
      "metadata": {
        "id": "hkZlAa3AWyAs"
      },
      "execution_count": 757,
      "outputs": []
    },
    {
      "cell_type": "code",
      "source": [
        "print(df['date'].unique()[::20])"
      ],
      "metadata": {
        "colab": {
          "base_uri": "https://localhost:8080/"
        },
        "id": "WaHYqNWsqMsc",
        "outputId": "26e3b798-7c81-41c2-b11e-c2d1672b790d"
      },
      "execution_count": 758,
      "outputs": [
        {
          "output_type": "stream",
          "name": "stdout",
          "text": [
            "['04-30-22' '04-10-2022' '05-22-22' '05-02-2022' '06-11-2022']\n"
          ]
        }
      ]
    },
    {
      "cell_type": "code",
      "source": [
        "df['date'] = pd.to_datetime(df['date'], errors='coerce')\n",
        "print(\"Invalid/Missing Dates:\", df['date'].isnull().sum())"
      ],
      "metadata": {
        "colab": {
          "base_uri": "https://localhost:8080/"
        },
        "id": "FeEF3mlUW0Y0",
        "outputId": "8cc3d34c-2fb7-4fce-cba3-33f9f6dfba0e"
      },
      "execution_count": 759,
      "outputs": [
        {
          "output_type": "stream",
          "name": "stdout",
          "text": [
            "Invalid/Missing Dates: 0\n"
          ]
        },
        {
          "output_type": "stream",
          "name": "stderr",
          "text": [
            "/tmp/ipython-input-792588247.py:1: UserWarning: Could not infer format, so each element will be parsed individually, falling back to `dateutil`. To ensure parsing is consistent and as-expected, please specify a format.\n",
            "  df['date'] = pd.to_datetime(df['date'], errors='coerce')\n"
          ]
        }
      ]
    },
    {
      "cell_type": "code",
      "source": [
        "print(\"Earliest Date:\", df['date'].min())\n",
        "print(\"Latest Date:\", df['date'].max())\n",
        "\n",
        "print(df['date'].dt.year.value_counts())"
      ],
      "metadata": {
        "colab": {
          "base_uri": "https://localhost:8080/"
        },
        "id": "wtyL9EOxq6Zv",
        "outputId": "d50f1499-5621-4872-85e3-dfcd97a78d2e"
      },
      "execution_count": 760,
      "outputs": [
        {
          "output_type": "stream",
          "name": "stdout",
          "text": [
            "Earliest Date: 2022-03-31 00:00:00\n",
            "Latest Date: 2022-06-29 00:00:00\n",
            "date\n",
            "2022    128943\n",
            "Name: count, dtype: int64\n"
          ]
        }
      ]
    },
    {
      "cell_type": "code",
      "source": [
        "df['status'] = df['status'].fillna(\"Unknown\")\n",
        "\n",
        "df['status'] = df['status'].astype(str).str.strip().str.title()\n",
        "\n",
        "print(df['status'].unique())"
      ],
      "metadata": {
        "colab": {
          "base_uri": "https://localhost:8080/"
        },
        "id": "1jDuCjbsXSEO",
        "outputId": "c2f042f9-f119-43a8-9064-0123c36f418d"
      },
      "execution_count": 761,
      "outputs": [
        {
          "output_type": "stream",
          "name": "stdout",
          "text": [
            "['Cancelled' 'Shipped - Delivered To Buyer' 'Shipped'\n",
            " 'Shipped - Returned To Seller' 'Shipped - Rejected By Buyer'\n",
            " 'Shipped - Lost In Transit' 'Shipped - Out For Delivery'\n",
            " 'Shipped - Returning To Seller' 'Shipped - Picked Up' 'Pending'\n",
            " 'Pending - Waiting For Pick Up' 'Shipped - Damaged' 'Shipping']\n"
          ]
        }
      ]
    },
    {
      "cell_type": "code",
      "source": [
        "status_mapping = {\n",
        "    'Cancelled': 'Cancelled',\n",
        "    'Shipped': 'Shipped',\n",
        "    'Shipping': 'Shipped',\n",
        "    'Shipped - Out For Delivery': 'Out for Delivery',\n",
        "    'Shipped - Picked Up': 'Picked Up',\n",
        "    'Shipped - Delivered To Buyer': 'Delivered',\n",
        "    'Shipped - Returned To Seller': 'Returned',\n",
        "    'Shipped - Returning To Seller': 'Returned',\n",
        "    'Shipped - Rejected By Buyer': 'Rejected',\n",
        "    'Shipped - Damaged': 'Damaged',\n",
        "    'Shipped - Lost In Transit': 'Lost',\n",
        "    'Pending': 'Pending',\n",
        "    'Pending - Waiting For Pick Up': 'Pending'\n",
        "}\n",
        "\n",
        "df['status'] = df['status'].map(status_mapping).fillna('Other')\n",
        "\n",
        "print(df['status'].unique())"
      ],
      "metadata": {
        "colab": {
          "base_uri": "https://localhost:8080/"
        },
        "id": "WYzOUvA1Xyfh",
        "outputId": "3b8075a6-e07e-4149-ee1e-b5864c9904b7"
      },
      "execution_count": 762,
      "outputs": [
        {
          "output_type": "stream",
          "name": "stdout",
          "text": [
            "['Cancelled' 'Delivered' 'Shipped' 'Returned' 'Rejected' 'Lost'\n",
            " 'Out for Delivery' 'Picked Up' 'Pending' 'Damaged']\n"
          ]
        }
      ]
    },
    {
      "cell_type": "code",
      "source": [
        "print(df['fulfilment'].unique())"
      ],
      "metadata": {
        "colab": {
          "base_uri": "https://localhost:8080/"
        },
        "id": "ZJK2rKM9aNOO",
        "outputId": "9ebf9fb3-88f8-4d99-b6ef-2b180876eadf"
      },
      "execution_count": 763,
      "outputs": [
        {
          "output_type": "stream",
          "name": "stdout",
          "text": [
            "['Merchant' 'Amazon']\n"
          ]
        }
      ]
    },
    {
      "cell_type": "code",
      "source": [
        "df['fulfilment'] = df['fulfilment'].fillna(\"Unknown\")\n",
        "df['fulfilment'] = df['fulfilment'].astype(str).str.strip().str.title()\n",
        "print(df['fulfilment'].unique())"
      ],
      "metadata": {
        "colab": {
          "base_uri": "https://localhost:8080/"
        },
        "id": "XTYlBchNZtd7",
        "outputId": "23594c2e-4ad6-4b75-b5cf-9265b9825015"
      },
      "execution_count": 764,
      "outputs": [
        {
          "output_type": "stream",
          "name": "stdout",
          "text": [
            "['Merchant' 'Amazon']\n"
          ]
        }
      ]
    },
    {
      "cell_type": "code",
      "source": [
        "print(df['sales_channel'].unique())"
      ],
      "metadata": {
        "colab": {
          "base_uri": "https://localhost:8080/"
        },
        "id": "y4B3NFgLdd_I",
        "outputId": "54b5d6fe-da0f-4954-a178-c9a62e1b3e74"
      },
      "execution_count": 765,
      "outputs": [
        {
          "output_type": "stream",
          "name": "stdout",
          "text": [
            "['Amazon.in' 'Non-Amazon']\n"
          ]
        }
      ]
    },
    {
      "cell_type": "code",
      "source": [
        "df['sales_channel'] = df['sales_channel'].fillna(\"Unknown\")\n",
        "df['sales_channel'] = df['sales_channel'].astype(str).str.strip().str.title()\n",
        "\n",
        "print(df['sales_channel'].unique())"
      ],
      "metadata": {
        "colab": {
          "base_uri": "https://localhost:8080/"
        },
        "id": "KvAuaMEDdTVk",
        "outputId": "d0ff83bc-26d6-441b-bb2c-a9a56b241a8c"
      },
      "execution_count": 766,
      "outputs": [
        {
          "output_type": "stream",
          "name": "stdout",
          "text": [
            "['Amazon.In' 'Non-Amazon']\n"
          ]
        }
      ]
    },
    {
      "cell_type": "code",
      "source": [
        "print(df['ship_service_level'].unique())"
      ],
      "metadata": {
        "colab": {
          "base_uri": "https://localhost:8080/"
        },
        "id": "97y_mdSwdrk7",
        "outputId": "b0c1e333-81b5-4901-f92a-4ba5c10ad00a"
      },
      "execution_count": 767,
      "outputs": [
        {
          "output_type": "stream",
          "name": "stdout",
          "text": [
            "['Standard' 'Expedited']\n"
          ]
        }
      ]
    },
    {
      "cell_type": "code",
      "source": [
        "df['ship_service_level'] = df['ship_service_level'].fillna(\"Unknown\")\n",
        "df['ship_service_level'] = df['ship_service_level'].astype(str).str.strip().str.title()\n",
        "\n",
        "print(df['ship_service_level'].unique())"
      ],
      "metadata": {
        "colab": {
          "base_uri": "https://localhost:8080/"
        },
        "id": "CnglKxqmdh0x",
        "outputId": "3b05c0b6-ffa3-4ea7-bac4-17c34878ae9e"
      },
      "execution_count": 768,
      "outputs": [
        {
          "output_type": "stream",
          "name": "stdout",
          "text": [
            "['Standard' 'Expedited']\n"
          ]
        }
      ]
    },
    {
      "cell_type": "code",
      "source": [
        "print(df['style'].nunique())"
      ],
      "metadata": {
        "colab": {
          "base_uri": "https://localhost:8080/"
        },
        "id": "F1HEQ8P-eBW-",
        "outputId": "05d63f23-89e7-48fb-fc0b-9459a1af80a0"
      },
      "execution_count": 769,
      "outputs": [
        {
          "output_type": "stream",
          "name": "stdout",
          "text": [
            "1377\n"
          ]
        }
      ]
    },
    {
      "cell_type": "code",
      "source": [
        "df['style'] = df['style'].fillna(\"Unknown\")\n",
        "df['style'] = df['style'].astype(str)\n",
        "\n",
        "print(df['style'].unique()[:20])"
      ],
      "metadata": {
        "colab": {
          "base_uri": "https://localhost:8080/"
        },
        "id": "5fdWGNoXdzS3",
        "outputId": "316356c1-91be-4b46-fa4f-5ca607e72d5e"
      },
      "execution_count": 770,
      "outputs": [
        {
          "output_type": "stream",
          "name": "stdout",
          "text": [
            "['SET389' 'JNE3781' 'JNE3371' 'J0341' 'JNE3671' 'SET264' 'J0095' 'JNE3405'\n",
            " 'SET200' 'JNE3461' 'JNE3160' 'JNE3500' 'SET254' 'JNE3795' 'SET345'\n",
            " 'JNE3373' 'SET291' 'MEN5002' 'NW030' 'JNE3415']\n"
          ]
        }
      ]
    },
    {
      "cell_type": "code",
      "source": [
        "df['sku'] = df['sku'].astype(str)\n",
        "print(\"Nulls in SKU:\", df['sku'].isnull().sum())\n",
        "print(\"Unique SKUs:\", df['sku'].nunique())"
      ],
      "metadata": {
        "colab": {
          "base_uri": "https://localhost:8080/"
        },
        "id": "SMqqhb2GeUvS",
        "outputId": "8ebdc854-2f03-4d17-9126-c9f3af330cb8"
      },
      "execution_count": 771,
      "outputs": [
        {
          "output_type": "stream",
          "name": "stdout",
          "text": [
            "Nulls in SKU: 0\n",
            "Unique SKUs: 7195\n"
          ]
        }
      ]
    },
    {
      "cell_type": "code",
      "source": [
        "print(df['category'].nunique())"
      ],
      "metadata": {
        "colab": {
          "base_uri": "https://localhost:8080/"
        },
        "id": "hfbIINYweqNP",
        "outputId": "bf873445-3ad7-4ade-86b1-12dd493bda6f"
      },
      "execution_count": 772,
      "outputs": [
        {
          "output_type": "stream",
          "name": "stdout",
          "text": [
            "9\n"
          ]
        }
      ]
    },
    {
      "cell_type": "code",
      "source": [
        "df['category'] = df['category'].fillna(\"Unknown\")\n",
        "df['category'] = df['category'].astype(str).str.strip().str.title()\n",
        "\n",
        "print(df['category'].unique())\n"
      ],
      "metadata": {
        "colab": {
          "base_uri": "https://localhost:8080/"
        },
        "id": "Sbz_VE9yeeJ0",
        "outputId": "e19be950-7fa1-444e-9207-b1f48e613354"
      },
      "execution_count": 773,
      "outputs": [
        {
          "output_type": "stream",
          "name": "stdout",
          "text": [
            "['Set' 'Kurta' 'Western Dress' 'Top' 'Ethnic Dress' 'Bottom' 'Saree'\n",
            " 'Blouse' 'Dupatta']\n"
          ]
        }
      ]
    },
    {
      "cell_type": "code",
      "source": [
        "print(df['size'].unique())"
      ],
      "metadata": {
        "colab": {
          "base_uri": "https://localhost:8080/"
        },
        "id": "WUypkMwTgSek",
        "outputId": "5dfaef13-7186-42fe-fbc5-d26d8098de5a"
      },
      "execution_count": 774,
      "outputs": [
        {
          "output_type": "stream",
          "name": "stdout",
          "text": [
            "['S' '3XL' 'XL' 'L' 'XXL' 'M' 'XS' '6XL' '4XL' '5XL' 'Free']\n"
          ]
        }
      ]
    },
    {
      "cell_type": "code",
      "source": [
        "df['size'] = df['size'].fillna(\"Unknown\")\n",
        "\n",
        "df['size'] = df['size'].astype(str).str.strip().str.upper()\n",
        "\n",
        "print(df['size'].unique())"
      ],
      "metadata": {
        "colab": {
          "base_uri": "https://localhost:8080/"
        },
        "id": "Z3VuE-_GfYVT",
        "outputId": "20c83b70-0bd3-49eb-e6d5-61b8e75a47e7"
      },
      "execution_count": 775,
      "outputs": [
        {
          "output_type": "stream",
          "name": "stdout",
          "text": [
            "['S' '3XL' 'XL' 'L' 'XXL' 'M' 'XS' '6XL' '4XL' '5XL' 'FREE']\n"
          ]
        }
      ]
    },
    {
      "cell_type": "code",
      "source": [
        "print(df['asin'].nunique())"
      ],
      "metadata": {
        "colab": {
          "base_uri": "https://localhost:8080/"
        },
        "id": "JmcaWFEGoVwS",
        "outputId": "7a765b1b-f693-49a6-d480-f657646f2532"
      },
      "execution_count": 776,
      "outputs": [
        {
          "output_type": "stream",
          "name": "stdout",
          "text": [
            "7190\n"
          ]
        }
      ]
    },
    {
      "cell_type": "code",
      "source": [
        "print(df['courier_status'].unique())"
      ],
      "metadata": {
        "colab": {
          "base_uri": "https://localhost:8080/"
        },
        "id": "UVfKHj4vIY3U",
        "outputId": "14ec57d6-e6ce-4de3-c6d3-429ac8939965"
      },
      "execution_count": 777,
      "outputs": [
        {
          "output_type": "stream",
          "name": "stdout",
          "text": [
            "[nan 'Shipped' 'Cancelled' 'Unshipped']\n"
          ]
        }
      ]
    },
    {
      "cell_type": "code",
      "source": [
        "df['courier_status'] = df['courier_status'].fillna('Unknown')\n",
        "df['courier_status'] = df['courier_status'].astype(str)"
      ],
      "metadata": {
        "id": "4GMmdTpzIe7T"
      },
      "execution_count": 778,
      "outputs": []
    },
    {
      "cell_type": "code",
      "source": [
        "print(df['qty'].unique())"
      ],
      "metadata": {
        "colab": {
          "base_uri": "https://localhost:8080/"
        },
        "id": "GcO4kVKmhOTa",
        "outputId": "4742d2c0-e38e-4b60-c169-8c091fe04462"
      },
      "execution_count": 779,
      "outputs": [
        {
          "output_type": "stream",
          "name": "stdout",
          "text": [
            "[ 0  1  2 15  3  9 13  5  4  8]\n"
          ]
        }
      ]
    },
    {
      "cell_type": "code",
      "source": [
        "df['qty'] = pd.to_numeric(df['qty'], errors='coerce')\n",
        "df['qty'] = df['qty'].fillna(df['qty'].median())\n",
        "df['qty'] = df['qty'].astype(int)\n",
        "\n",
        "print(df['qty'].describe())"
      ],
      "metadata": {
        "colab": {
          "base_uri": "https://localhost:8080/"
        },
        "id": "i0NgBGCXgWzB",
        "outputId": "9bc3bd21-9cf7-4a6e-8d2e-9720d6afbf87"
      },
      "execution_count": 780,
      "outputs": [
        {
          "output_type": "stream",
          "name": "stdout",
          "text": [
            "count    128943.000000\n",
            "mean          0.904648\n",
            "std           0.314758\n",
            "min           0.000000\n",
            "25%           1.000000\n",
            "50%           1.000000\n",
            "75%           1.000000\n",
            "max          15.000000\n",
            "Name: qty, dtype: float64\n"
          ]
        }
      ]
    },
    {
      "cell_type": "code",
      "source": [
        "print(df['currency'].unique())"
      ],
      "metadata": {
        "colab": {
          "base_uri": "https://localhost:8080/"
        },
        "id": "Af-bJr_JiC6V",
        "outputId": "d3365762-9996-42c8-9ad5-45cfd0858fb9"
      },
      "execution_count": 781,
      "outputs": [
        {
          "output_type": "stream",
          "name": "stdout",
          "text": [
            "['INR' nan]\n"
          ]
        }
      ]
    },
    {
      "cell_type": "code",
      "source": [
        "df['currency'] = df['currency'].fillna(\"Unknown\")\n",
        "\n",
        "df['currency'] = df['currency'].astype(str).str.strip().str.upper()\n",
        "\n",
        "print(df['currency'].unique())"
      ],
      "metadata": {
        "colab": {
          "base_uri": "https://localhost:8080/"
        },
        "id": "2Q3yssqMh6Rm",
        "outputId": "13e2d590-bf9e-412e-81a2-d89f14c86dc5"
      },
      "execution_count": 782,
      "outputs": [
        {
          "output_type": "stream",
          "name": "stdout",
          "text": [
            "['INR' 'UNKNOWN']\n"
          ]
        }
      ]
    },
    {
      "cell_type": "code",
      "source": [
        "print(df['amount'].nunique())"
      ],
      "metadata": {
        "colab": {
          "base_uri": "https://localhost:8080/"
        },
        "id": "2XS0OF6XjOWk",
        "outputId": "d26c6cf5-d022-45da-d584-3d7c9a989d8c"
      },
      "execution_count": 783,
      "outputs": [
        {
          "output_type": "stream",
          "name": "stdout",
          "text": [
            "1410\n"
          ]
        }
      ]
    },
    {
      "cell_type": "code",
      "source": [
        "df['amount'] = pd.to_numeric(df['amount'], errors='coerce')\n",
        "\n",
        "median_value = df.loc[df['amount'] != 0, 'amount'].median()\n",
        "df['amount'] = df['amount'].fillna(median_value)\n",
        "df.loc[df['status'] == \"Cancelled\", 'amount'] = 0\n",
        "print(df['amount'].describe())\n",
        "\n"
      ],
      "metadata": {
        "colab": {
          "base_uri": "https://localhost:8080/"
        },
        "id": "CtFh0De8iIny",
        "outputId": "beb9afe7-b893-4eef-f39a-003fcbdbab89"
      },
      "execution_count": 784,
      "outputs": [
        {
          "output_type": "stream",
          "name": "stdout",
          "text": [
            "count    128943.000000\n",
            "mean        556.758417\n",
            "std         346.496085\n",
            "min           0.000000\n",
            "25%         376.000000\n",
            "50%         545.000000\n",
            "75%         760.000000\n",
            "max        5584.000000\n",
            "Name: amount, dtype: float64\n"
          ]
        }
      ]
    },
    {
      "cell_type": "code",
      "source": [
        "df['ship_city'] = df['ship_city'].fillna(\"Unknown\")\n",
        "df['ship_city'] = df['ship_city'].astype(str).str.strip().str.title()\n",
        "\n",
        "print(df['ship_city'].unique()[:20])"
      ],
      "metadata": {
        "colab": {
          "base_uri": "https://localhost:8080/"
        },
        "id": "Ck4ZNoNmjblT",
        "outputId": "f8f0a0a7-a9fa-4add-f9c9-525cac7387f8"
      },
      "execution_count": 785,
      "outputs": [
        {
          "output_type": "stream",
          "name": "stdout",
          "text": [
            "['Mumbai' 'Bengaluru' 'Navi Mumbai' 'Puducherry' 'Chennai' 'Ghaziabad'\n",
            " 'Chandigarh' 'Hyderabad' 'Noida' 'Amravati.' 'Tiruchirappalli' 'Pune'\n",
            " 'Tezpur' 'Ranchi' 'Bilaspur' 'Guwahati' 'Thiruvarur' 'Lucknow'\n",
            " 'Visakhapatnam' 'Jeypur']\n"
          ]
        }
      ]
    },
    {
      "cell_type": "code",
      "source": [
        "print(df['ship_state'].nunique())"
      ],
      "metadata": {
        "colab": {
          "base_uri": "https://localhost:8080/"
        },
        "id": "NJlQCvOVjlHv",
        "outputId": "64504dc6-0eb9-4894-eab4-dbffece09d9b"
      },
      "execution_count": 786,
      "outputs": [
        {
          "output_type": "stream",
          "name": "stdout",
          "text": [
            "69\n"
          ]
        }
      ]
    },
    {
      "cell_type": "code",
      "source": [
        "df['ship_state'] = df['ship_state'].fillna(\"Unknown\")\n",
        "df['ship_state'] = df['ship_state'].astype(str).str.strip().str.title()\n",
        "\n",
        "print(df['ship_state'].unique()[:48])"
      ],
      "metadata": {
        "colab": {
          "base_uri": "https://localhost:8080/"
        },
        "id": "p2Pur2Ekjd8v",
        "outputId": "040e1c2d-35da-4114-b67d-28c3ae336f72"
      },
      "execution_count": 787,
      "outputs": [
        {
          "output_type": "stream",
          "name": "stdout",
          "text": [
            "['Maharashtra' 'Karnataka' 'Puducherry' 'Tamil Nadu' 'Uttar Pradesh'\n",
            " 'Chandigarh' 'Telangana' 'Assam' 'Jharkhand' 'Chhattisgarh'\n",
            " 'Andhra Pradesh' 'Odisha' 'Delhi' 'Kerala' 'Madhya Pradesh' 'West Bengal'\n",
            " 'Nagaland' 'Rajasthan' 'Gujarat' 'Uttarakhand' 'Bihar' 'Jammu & Kashmir'\n",
            " 'Haryana' 'Punjab' 'Himachal Pradesh' 'Arunachal Pradesh' 'Manipur' 'Goa'\n",
            " 'Meghalaya' 'Tripura' 'Ladakh' 'Dadra And Nagar' 'Sikkim' 'Unknown'\n",
            " 'Andaman & Nicobar' 'Rajshthan' 'Nl' 'Mizoram' 'New Delhi'\n",
            " 'Punjab/Mohali/Zirakpur' 'Rj' 'Orissa' 'Lakshadweep' 'Pb' 'Apo' 'Ar'\n",
            " 'Pondicherry' 'Rajsthan']\n"
          ]
        }
      ]
    },
    {
      "cell_type": "code",
      "source": [
        "state_mapping = {\n",
        "    'Rajshthan': 'Rajasthan',\n",
        "    'Rajsthan': 'Rajasthan',\n",
        "    'Rj': 'Rajasthan',\n",
        "    'Orissa': 'Odisha',\n",
        "    'Pondicherry': 'Puducherry',\n",
        "    'Pb': 'Punjab',\n",
        "    'Punjab/Mohali/Zirakpur': 'Punjab',\n",
        "    'Nl': 'Nagaland',\n",
        "    'Ar': 'Arunachal Pradesh',\n",
        "    'New Delhi': 'Delhi',\n",
        "    'Apo': 'Unknown'\n",
        "}\n",
        "\n",
        "df['ship_state'] = df['ship_state'].replace(state_mapping)\n",
        "\n",
        "print(df['ship_state'].nunique())\n",
        "print(df['ship_state'].unique())"
      ],
      "metadata": {
        "colab": {
          "base_uri": "https://localhost:8080/"
        },
        "id": "IL6NO9lyj-4g",
        "outputId": "22088932-c8c5-4a99-ce85-86ad20a304eb"
      },
      "execution_count": 788,
      "outputs": [
        {
          "output_type": "stream",
          "name": "stdout",
          "text": [
            "37\n",
            "['Maharashtra' 'Karnataka' 'Puducherry' 'Tamil Nadu' 'Uttar Pradesh'\n",
            " 'Chandigarh' 'Telangana' 'Assam' 'Jharkhand' 'Chhattisgarh'\n",
            " 'Andhra Pradesh' 'Odisha' 'Delhi' 'Kerala' 'Madhya Pradesh' 'West Bengal'\n",
            " 'Nagaland' 'Rajasthan' 'Gujarat' 'Uttarakhand' 'Bihar' 'Jammu & Kashmir'\n",
            " 'Haryana' 'Punjab' 'Himachal Pradesh' 'Arunachal Pradesh' 'Manipur' 'Goa'\n",
            " 'Meghalaya' 'Tripura' 'Ladakh' 'Dadra And Nagar' 'Sikkim' 'Unknown'\n",
            " 'Andaman & Nicobar' 'Mizoram' 'Lakshadweep']\n"
          ]
        }
      ]
    },
    {
      "cell_type": "code",
      "source": [
        "print(df['ship_country'].nunique())"
      ],
      "metadata": {
        "colab": {
          "base_uri": "https://localhost:8080/"
        },
        "id": "BgN6ad1nkQum",
        "outputId": "a4879ca7-2ffc-451f-eac0-553d73c92f6d"
      },
      "execution_count": 789,
      "outputs": [
        {
          "output_type": "stream",
          "name": "stdout",
          "text": [
            "1\n"
          ]
        }
      ]
    },
    {
      "cell_type": "code",
      "source": [
        "df['ship_country'] = df['ship_country'].fillna(\"Unknown\")\n",
        "df['ship_country'] = df['ship_country'].astype(str).str.strip().str.upper()\n",
        "\n",
        "print(df['ship_country'].unique())"
      ],
      "metadata": {
        "colab": {
          "base_uri": "https://localhost:8080/"
        },
        "id": "1CG-w82HkDnL",
        "outputId": "06625fc0-4b67-4779-9fac-7f59e8525f78"
      },
      "execution_count": 790,
      "outputs": [
        {
          "output_type": "stream",
          "name": "stdout",
          "text": [
            "['IN' 'UNKNOWN']\n"
          ]
        }
      ]
    },
    {
      "cell_type": "code",
      "source": [
        "print(df['ship_postal_code'].unique()[:20])"
      ],
      "metadata": {
        "colab": {
          "base_uri": "https://localhost:8080/"
        },
        "id": "HZoiYreblOeU",
        "outputId": "7f0d9026-198e-4a73-bd93-c59da046a9d6"
      },
      "execution_count": 791,
      "outputs": [
        {
          "output_type": "stream",
          "name": "stdout",
          "text": [
            "[400081. 560085. 410210. 605008. 600073. 201102. 160036. 500032. 500008.\n",
            " 600041. 201303. 444606. 560017. 620018. 560040. 500072. 411044. 784001.\n",
            " 834002. 495001.]\n"
          ]
        }
      ]
    },
    {
      "cell_type": "code",
      "source": [
        "df['ship_postal_code'] = pd.to_numeric(df['ship_postal_code'], errors='coerce')  # make numeric\n",
        "df['ship_postal_code'] = df['ship_postal_code'].fillna(-1).astype(int)\n",
        "df['ship_postal_code'] = df['ship_postal_code'].fillna(\"Unknown\")\n",
        "\n",
        "print(df['ship_postal_code'].unique()[:20])"
      ],
      "metadata": {
        "colab": {
          "base_uri": "https://localhost:8080/"
        },
        "id": "BIBuma_RlEQk",
        "outputId": "983c0815-a97e-4775-8768-bd23c3d76c18"
      },
      "execution_count": 792,
      "outputs": [
        {
          "output_type": "stream",
          "name": "stdout",
          "text": [
            "[400081 560085 410210 605008 600073 201102 160036 500032 500008 600041\n",
            " 201303 444606 560017 620018 560040 500072 411044 784001 834002 495001]\n"
          ]
        }
      ]
    },
    {
      "cell_type": "code",
      "source": [
        "print(df['promotion_ids'].nunique())"
      ],
      "metadata": {
        "colab": {
          "base_uri": "https://localhost:8080/"
        },
        "id": "CihJ3rR5nR94",
        "outputId": "7e0799ce-9e59-43af-d9ee-6a88fdcaa725"
      },
      "execution_count": 793,
      "outputs": [
        {
          "output_type": "stream",
          "name": "stdout",
          "text": [
            "5787\n"
          ]
        }
      ]
    },
    {
      "cell_type": "code",
      "source": [
        "df['promotion_ids'] = df['promotion_ids'].astype(str).str.strip()\n",
        "df['promotion_ids'] = df['promotion_ids'].replace(['nan', 'NaN', 'None', ''], 'None')\n",
        "\n",
        "print(df['promotion_ids'].unique()[:20])"
      ],
      "metadata": {
        "colab": {
          "base_uri": "https://localhost:8080/"
        },
        "id": "9NEep213nMPP",
        "outputId": "c5070ff2-0252-447e-cb84-cef3e65282df"
      },
      "execution_count": 794,
      "outputs": [
        {
          "output_type": "stream",
          "name": "stdout",
          "text": [
            "['None'\n",
            " 'Amazon PLCC Free-Financing Universal Merchant AAT-WNKTBO3K27EJC,Amazon PLCC Free-Financing Universal Merchant AAT-QX3UCCJESKPA2,Amazon PLCC Free-Financing Universal Merchant AAT-5QQ7BIYYQEDN2,Amazon PLCC Free-Financing Universal Merchant AAT-DSJ2QRXXWXVMQ,Amazon PLCC Free-Financing Universal Merchant AAT-CXJHMC2YJUK76,Amazon PLCC Free-Financing Universal Merchant AAT-CC4FAVTYR4X7C,Amazon PLCC Free-Financing Universal Merchant AAT-XXRCW6NZEPZI4,Amazon PLCC Free-Financing Universal Merchant AAT-CXNSLNBROFDW4,Amazon PLCC Free-Financing Universal Merchant AAT-R7GXNZWISTRFA,Amazon PLCC Free-Financing Universal Merchant AAT-WSJLDN3X7KEMO,Amazon PLCC Free-Financing Universal Merchant AAT-VL6FGQVGQVXUS,Amazon PLCC Free-Financing Universal Merchant AAT-EOKPWFWYW7Y6I,Amazon PLCC Free-Financing Universal Merchant AAT-ZYL5UPUNW6T62,Amazon PLCC Free-Financing Universal Merchant AAT-XVPICCHRWDCAI,Amazon PLCC Free-Financing Universal Merchant AAT-ETXQ3XXWMRXBG,Amazon PLCC Free-Financing Universal Merchant AAT-7X3XCTYG64VBE,Amazon PLCC Free-Financing Universal Merchant AAT-7CHGD3WTS3MHM,Amazon PLCC Free-Financing Universal Merchant AAT-26ZDKNME27X42,Amazon PLCC Free-Financing Universal Merchant AAT-4ZF5KN6E4LJK4,Amazon PLCC Free-Financing Universal Merchant AAT-7RCXIKUAX7DDY,Amazon PLCC Free-Financing Universal Merchant AAT-BRSZZ45H6MHAO,Amazon PLCC Free-Financing Universal Merchant AAT-MKLXOOZWQL7GO,Amazon PLCC Free-Financing Universal Merchant AAT-CB7UNXEXGIJTC,Amazon PLCC Free-Financing Universal Merchant #MP-gzasho-1593152694811,Amazon PLCC Free-Financing Universal Merchant AAT-WLBA4GZ52EAH4'\n",
            " 'IN Core Free Shipping 2015/04/08 23-48-5-108'\n",
            " 'Amazon PLCC Free-Financing Universal Merchant AAT-WNKTBO3K27EJC,Amazon PLCC Free-Financing Universal Merchant AAT-QX3UCCJESKPA2,Amazon PLCC Free-Financing Universal Merchant AAT-5QQ7BIYYQEDN2,Amazon PLCC Free-Financing Universal Merchant AAT-DSJ2QRXXWXVMQ,Amazon PLCC Free-Financing Universal Merchant AAT-CXJHMC2YJUK76,Amazon PLCC Free-Financing Universal Merchant AAT-CC4FAVTYR4X7C,Amazon PLCC Free-Financing Universal Merchant AAT-XXRCW6NZEPZI4,Amazon PLCC Free-Financing Universal Merchant AAT-EOKPWFWYW7Y6I,Amazon PLCC Free-Financing Universal Merchant AAT-ZYL5UPUNW6T62,Amazon PLCC Free-Financing Universal Merchant AAT-ETXQ3XXWMRXBG,Amazon PLCC Free-Financing Universal Merchant AAT-7X3XCTYG64VBE,Amazon PLCC Free-Financing Universal Merchant AAT-7CHGD3WTS3MHM,Amazon PLCC Free-Financing Universal Merchant AAT-26ZDKNME27X42,Amazon PLCC Free-Financing Universal Merchant AAT-4ZF5KN6E4LJK4,Amazon PLCC Free-Financing Universal Merchant AAT-7RCXIKUAX7DDY,Amazon PLCC Free-Financing Universal Merchant AAT-BRSZZ45H6MHAO,Amazon PLCC Free-Financing Universal Merchant AAT-MKLXOOZWQL7GO,Amazon PLCC Free-Financing Universal Merchant AAT-CB7UNXEXGIJTC,Amazon PLCC Free-Financing Universal Merchant #MP-gzasho-1593152694811,Amazon PLCC Free-Financing Universal Merchant AAT-WLBA4GZ52EAH4'\n",
            " 'Amazon PLCC Free-Financing Universal Merchant AAT-WNKTBO3K27EJC,Amazon PLCC Free-Financing Universal Merchant AAT-QX3UCCJESKPA2,Amazon PLCC Free-Financing Universal Merchant AAT-5QQ7BIYYQEDN2,Amazon PLCC Free-Financing Universal Merchant AAT-DSJ2QRXXWXVMQ,Amazon PLCC Free-Financing Universal Merchant AAT-CXJHMC2YJUK76,Amazon PLCC Free-Financing Universal Merchant AAT-CC4FAVTYR4X7C,Amazon PLCC Free-Financing Universal Merchant AAT-XXRCW6NZEPZI4,Amazon PLCC Free-Financing Universal Merchant AAT-EOKPWFWYW7Y6I,Amazon PLCC Free-Financing Universal Merchant AAT-ETXQ3XXWMRXBG,Amazon PLCC Free-Financing Universal Merchant AAT-7X3XCTYG64VBE,Amazon PLCC Free-Financing Universal Merchant AAT-7CHGD3WTS3MHM,Amazon PLCC Free-Financing Universal Merchant AAT-26ZDKNME27X42,Amazon PLCC Free-Financing Universal Merchant AAT-4ZF5KN6E4LJK4,Amazon PLCC Free-Financing Universal Merchant AAT-7RCXIKUAX7DDY,Amazon PLCC Free-Financing Universal Merchant AAT-BRSZZ45H6MHAO,Amazon PLCC Free-Financing Universal Merchant AAT-MKLXOOZWQL7GO,Amazon PLCC Free-Financing Universal Merchant AAT-CB7UNXEXGIJTC,Amazon PLCC Free-Financing Universal Merchant #MP-gzasho-1593152694811,Amazon PLCC Free-Financing Universal Merchant AAT-WLBA4GZ52EAH4'\n",
            " 'Amazon PLCC Free-Financing Universal Merchant AAT-WNKTBO3K27EJC,Amazon PLCC Free-Financing Universal Merchant AAT-QX3UCCJESKPA2,Amazon PLCC Free-Financing Universal Merchant AAT-5QQ7BIYYQEDN2,Amazon PLCC Free-Financing Universal Merchant AAT-DSJ2QRXXWXVMQ,Amazon PLCC Free-Financing Universal Merchant AAT-CXJHMC2YJUK76,Amazon PLCC Free-Financing Universal Merchant AAT-SL3Y2YRMAUNFC,Amazon PLCC Free-Financing Universal Merchant AAT-CC4FAVTYR4X7C,Amazon PLCC Free-Financing Universal Merchant AAT-XXRCW6NZEPZI4,Amazon PLCC Free-Financing Universal Merchant AAT-WSJLDN3X7KEMO,Amazon PLCC Free-Financing Universal Merchant AAT-VL6FGQVGQVXUS,Amazon PLCC Free-Financing Universal Merchant AAT-EOKPWFWYW7Y6I,Amazon PLCC Free-Financing Universal Merchant AAT-ZYL5UPUNW6T62,Amazon PLCC Free-Financing Universal Merchant AAT-XVPICCHRWDCAI,Amazon PLCC Free-Financing Universal Merchant AAT-ETXQ3XXWMRXBG,Amazon PLCC Free-Financing Universal Merchant AAT-7X3XCTYG64VBE,Amazon PLCC Free-Financing Universal Merchant AAT-7CHGD3WTS3MHM,Amazon PLCC Free-Financing Universal Merchant AAT-26ZDKNME27X42,Amazon PLCC Free-Financing Universal Merchant AAT-4ZF5KN6E4LJK4,Amazon PLCC Free-Financing Universal Merchant AAT-7RCXIKUAX7DDY,Amazon PLCC Free-Financing Universal Merchant AAT-BRSZZ45H6MHAO,Amazon PLCC Free-Financing Universal Merchant AAT-MKLXOOZWQL7GO,Amazon PLCC Free-Financing Universal Merchant AAT-CB7UNXEXGIJTC,Amazon PLCC Free-Financing Universal Merchant #MP-gzasho-1593152694811,Amazon PLCC Free-Financing Universal Merchant AAT-WLBA4GZ52EAH4'\n",
            " 'Amazon PLCC Free-Financing Universal Merchant AAT-WNKTBO3K27EJC,Amazon PLCC Free-Financing Universal Merchant AAT-QX3UCCJESKPA2,Amazon PLCC Free-Financing Universal Merchant AAT-5QQ7BIYYQEDN2,Amazon PLCC Free-Financing Universal Merchant AAT-DSJ2QRXXWXVMQ,Amazon PLCC Free-Financing Universal Merchant AAT-CXJHMC2YJUK76,Amazon PLCC Free-Financing Universal Merchant AAT-SL3Y2YRMAUNFC,Amazon PLCC Free-Financing Universal Merchant AAT-CC4FAVTYR4X7C,Amazon PLCC Free-Financing Universal Merchant AAT-XXRCW6NZEPZI4,Amazon PLCC Free-Financing Universal Merchant AAT-EOKPWFWYW7Y6I,Amazon PLCC Free-Financing Universal Merchant AAT-ZYL5UPUNW6T62,Amazon PLCC Free-Financing Universal Merchant AAT-ETXQ3XXWMRXBG,Amazon PLCC Free-Financing Universal Merchant AAT-7X3XCTYG64VBE,Amazon PLCC Free-Financing Universal Merchant AAT-7CHGD3WTS3MHM,Amazon PLCC Free-Financing Universal Merchant AAT-26ZDKNME27X42,Amazon PLCC Free-Financing Universal Merchant AAT-4ZF5KN6E4LJK4,Amazon PLCC Free-Financing Universal Merchant AAT-7RCXIKUAX7DDY,Amazon PLCC Free-Financing Universal Merchant AAT-TNYBHEAO7HOHO,Amazon PLCC Free-Financing Universal Merchant AAT-BRSZZ45H6MHAO,Amazon PLCC Free-Financing Universal Merchant AAT-MKLXOOZWQL7GO,Amazon PLCC Free-Financing Universal Merchant AAT-CB7UNXEXGIJTC,Amazon PLCC Free-Financing Universal Merchant #MP-gzasho-1593152694811,Amazon PLCC Free-Financing Universal Merchant AAT-WLBA4GZ52EAH4,Amazon PLCC Free-Financing Universal Merchant AAT-QMFZ3M7T5NPDS,Amazon PLCC Free-Financing Universal Merchant #MP-pmilan-1601980554292'\n",
            " 'Amazon PLCC Free-Financing Universal Merchant AAT-WNKTBO3K27EJC,Amazon PLCC Free-Financing Universal Merchant AAT-QX3UCCJESKPA2,Amazon PLCC Free-Financing Universal Merchant AAT-5QQ7BIYYQEDN2,Amazon PLCC Free-Financing Universal Merchant AAT-DSJ2QRXXWXVMQ,Amazon PLCC Free-Financing Universal Merchant AAT-CXJHMC2YJUK76,Amazon PLCC Free-Financing Universal Merchant AAT-CC4FAVTYR4X7C,Amazon PLCC Free-Financing Universal Merchant AAT-XXRCW6NZEPZI4,Amazon PLCC Free-Financing Universal Merchant AAT-EOKPWFWYW7Y6I,Amazon PLCC Free-Financing Universal Merchant AAT-ZYL5UPUNW6T62,Amazon PLCC Free-Financing Universal Merchant AAT-ETXQ3XXWMRXBG,Amazon PLCC Free-Financing Universal Merchant AAT-7X3XCTYG64VBE,Amazon PLCC Free-Financing Universal Merchant AAT-7CHGD3WTS3MHM,Amazon PLCC Free-Financing Universal Merchant AAT-26ZDKNME27X42,Amazon PLCC Free-Financing Universal Merchant AAT-4ZF5KN6E4LJK4,Amazon PLCC Free-Financing Universal Merchant AAT-7RCXIKUAX7DDY,Amazon PLCC Free-Financing Universal Merchant AAT-TNYBHEAO7HOHO,Amazon PLCC Free-Financing Universal Merchant AAT-BRSZZ45H6MHAO,Amazon PLCC Free-Financing Universal Merchant AAT-MKLXOOZWQL7GO,Amazon PLCC Free-Financing Universal Merchant AAT-CB7UNXEXGIJTC,Amazon PLCC Free-Financing Universal Merchant #MP-gzasho-1593152694811,Amazon PLCC Free-Financing Universal Merchant AAT-WLBA4GZ52EAH4,Amazon PLCC Free-Financing Universal Merchant AAT-QMFZ3M7T5NPDS,Amazon PLCC Free-Financing Universal Merchant #MP-pmilan-1601980554292'\n",
            " 'Amazon PLCC Free-Financing Universal Merchant AAT-WNKTBO3K27EJC,Amazon PLCC Free-Financing Universal Merchant AAT-QX3UCCJESKPA2,Amazon PLCC Free-Financing Universal Merchant AAT-5QQ7BIYYQEDN2,Amazon PLCC Free-Financing Universal Merchant AAT-DSJ2QRXXWXVMQ,Amazon PLCC Free-Financing Universal Merchant AAT-CXJHMC2YJUK76,Amazon PLCC Free-Financing Universal Merchant AAT-SL3Y2YRMAUNFC,Amazon PLCC Free-Financing Universal Merchant AAT-CC4FAVTYR4X7C,Amazon PLCC Free-Financing Universal Merchant AAT-XXRCW6NZEPZI4,Amazon PLCC Free-Financing Universal Merchant AAT-EOKPWFWYW7Y6I,Amazon PLCC Free-Financing Universal Merchant AAT-ZYL5UPUNW6T62,Amazon PLCC Free-Financing Universal Merchant AAT-H56TELQ6BG7EC,Amazon PLCC Free-Financing Universal Merchant AAT-ETXQ3XXWMRXBG,Amazon PLCC Free-Financing Universal Merchant AAT-7X3XCTYG64VBE,Amazon PLCC Free-Financing Universal Merchant AAT-7CHGD3WTS3MHM,Amazon PLCC Free-Financing Universal Merchant AAT-26ZDKNME27X42,Amazon PLCC Free-Financing Universal Merchant AAT-4ZF5KN6E4LJK4,Amazon PLCC Free-Financing Universal Merchant AAT-7RCXIKUAX7DDY,Amazon PLCC Free-Financing Universal Merchant AAT-TNYBHEAO7HOHO,Amazon PLCC Free-Financing Universal Merchant AAT-BRSZZ45H6MHAO,Amazon PLCC Free-Financing Universal Merchant AAT-MKLXOOZWQL7GO,Amazon PLCC Free-Financing Universal Merchant AAT-CB7UNXEXGIJTC,Amazon PLCC Free-Financing Universal Merchant #MP-gzasho-1593152694811,Amazon PLCC Free-Financing Universal Merchant AAT-WLBA4GZ52EAH4,Amazon PLCC Free-Financing Universal Merchant AAT-QMFZ3M7T5NPDS,Amazon PLCC Free-Financing Universal Merchant #MP-pmilan-1601980554292'\n",
            " 'Amazon PLCC Free-Financing Universal Merchant AAT-WNKTBO3K27EJC,Amazon PLCC Free-Financing Universal Merchant AAT-QX3UCCJESKPA2,Amazon PLCC Free-Financing Universal Merchant AAT-5QQ7BIYYQEDN2,Amazon PLCC Free-Financing Universal Merchant AAT-DSJ2QRXXWXVMQ,Amazon PLCC Free-Financing Universal Merchant AAT-CXJHMC2YJUK76,Amazon PLCC Free-Financing Universal Merchant AAT-CC4FAVTYR4X7C,Amazon PLCC Free-Financing Universal Merchant AAT-XXRCW6NZEPZI4,Amazon PLCC Free-Financing Universal Merchant AAT-R7GXNZWISTRFA,Amazon PLCC Free-Financing Universal Merchant AAT-WSJLDN3X7KEMO,Amazon PLCC Free-Financing Universal Merchant AAT-VL6FGQVGQVXUS,Amazon PLCC Free-Financing Universal Merchant AAT-EOKPWFWYW7Y6I,Amazon PLCC Free-Financing Universal Merchant AAT-ZYL5UPUNW6T62,Amazon PLCC Free-Financing Universal Merchant AAT-ETXQ3XXWMRXBG,Amazon PLCC Free-Financing Universal Merchant AAT-7X3XCTYG64VBE,Amazon PLCC Free-Financing Universal Merchant AAT-7CHGD3WTS3MHM,Amazon PLCC Free-Financing Universal Merchant AAT-26ZDKNME27X42,Amazon PLCC Free-Financing Universal Merchant AAT-4ZF5KN6E4LJK4,Amazon PLCC Free-Financing Universal Merchant AAT-7RCXIKUAX7DDY,Amazon PLCC Free-Financing Universal Merchant AAT-BRSZZ45H6MHAO,Amazon PLCC Free-Financing Universal Merchant AAT-MKLXOOZWQL7GO,Amazon PLCC Free-Financing Universal Merchant AAT-CB7UNXEXGIJTC,Amazon PLCC Free-Financing Universal Merchant #MP-gzasho-1593152694811,Amazon PLCC Free-Financing Universal Merchant AAT-WLBA4GZ52EAH4'\n",
            " 'Amazon PLCC Free-Financing Universal Merchant AAT-WNKTBO3K27EJC,Amazon PLCC Free-Financing Universal Merchant AAT-QX3UCCJESKPA2,Amazon PLCC Free-Financing Universal Merchant AAT-5QQ7BIYYQEDN2,Amazon PLCC Free-Financing Universal Merchant AAT-DSJ2QRXXWXVMQ,Amazon PLCC Free-Financing Universal Merchant AAT-CXJHMC2YJUK76,Amazon PLCC Free-Financing Universal Merchant AAT-CC4FAVTYR4X7C,Amazon PLCC Free-Financing Universal Merchant AAT-XXRCW6NZEPZI4,Amazon PLCC Free-Financing Universal Merchant AAT-R7GXNZWISTRFA,Amazon PLCC Free-Financing Universal Merchant AAT-EOKPWFWYW7Y6I,Amazon PLCC Free-Financing Universal Merchant AAT-ETXQ3XXWMRXBG,Amazon PLCC Free-Financing Universal Merchant AAT-7X3XCTYG64VBE,Amazon PLCC Free-Financing Universal Merchant AAT-7CHGD3WTS3MHM,Amazon PLCC Free-Financing Universal Merchant AAT-26ZDKNME27X42,Amazon PLCC Free-Financing Universal Merchant AAT-4ZF5KN6E4LJK4,Amazon PLCC Free-Financing Universal Merchant AAT-7RCXIKUAX7DDY,Amazon PLCC Free-Financing Universal Merchant AAT-BRSZZ45H6MHAO,Amazon PLCC Free-Financing Universal Merchant AAT-MKLXOOZWQL7GO,Amazon PLCC Free-Financing Universal Merchant AAT-CB7UNXEXGIJTC,Amazon PLCC Free-Financing Universal Merchant #MP-gzasho-1593152694811,Amazon PLCC Free-Financing Universal Merchant AAT-WLBA4GZ52EAH4'\n",
            " 'Amazon PLCC Free-Financing Universal Merchant AAT-WNKTBO3K27EJC,Amazon PLCC Free-Financing Universal Merchant AAT-QX3UCCJESKPA2,Amazon PLCC Free-Financing Universal Merchant AAT-5QQ7BIYYQEDN2,Amazon PLCC Free-Financing Universal Merchant AAT-DSJ2QRXXWXVMQ,Amazon PLCC Free-Financing Universal Merchant AAT-CXJHMC2YJUK76,Amazon PLCC Free-Financing Universal Merchant AAT-SL3Y2YRMAUNFC,Amazon PLCC Free-Financing Universal Merchant AAT-CC4FAVTYR4X7C,Amazon PLCC Free-Financing Universal Merchant AAT-XXRCW6NZEPZI4,Amazon PLCC Free-Financing Universal Merchant AAT-EOKPWFWYW7Y6I,Amazon PLCC Free-Financing Universal Merchant AAT-ZYL5UPUNW6T62,Amazon PLCC Free-Financing Universal Merchant AAT-ETXQ3XXWMRXBG,Amazon PLCC Free-Financing Universal Merchant AAT-7X3XCTYG64VBE,Amazon PLCC Free-Financing Universal Merchant AAT-7CHGD3WTS3MHM,Amazon PLCC Free-Financing Universal Merchant AAT-26ZDKNME27X42,Amazon PLCC Free-Financing Universal Merchant AAT-4ZF5KN6E4LJK4,Amazon PLCC Free-Financing Universal Merchant AAT-7RCXIKUAX7DDY,Amazon PLCC Free-Financing Universal Merchant AAT-BRSZZ45H6MHAO,Amazon PLCC Free-Financing Universal Merchant AAT-MKLXOOZWQL7GO,Amazon PLCC Free-Financing Universal Merchant AAT-CB7UNXEXGIJTC,Amazon PLCC Free-Financing Universal Merchant #MP-gzasho-1593152694811,Amazon PLCC Free-Financing Universal Merchant AAT-WLBA4GZ52EAH4,Amazon PLCC Free-Financing Universal Merchant #MP-pmilan-1601980554292'\n",
            " 'Amazon PLCC Free-Financing Universal Merchant AAT-WNKTBO3K27EJC,Amazon PLCC Free-Financing Universal Merchant AAT-QX3UCCJESKPA2,Amazon PLCC Free-Financing Universal Merchant AAT-5QQ7BIYYQEDN2,Amazon PLCC Free-Financing Universal Merchant AAT-DSJ2QRXXWXVMQ,Amazon PLCC Free-Financing Universal Merchant AAT-CXJHMC2YJUK76,Amazon PLCC Free-Financing Universal Merchant AAT-CC4FAVTYR4X7C,Amazon PLCC Free-Financing Universal Merchant AAT-XXRCW6NZEPZI4,Amazon PLCC Free-Financing Universal Merchant AAT-EOKPWFWYW7Y6I,Amazon PLCC Free-Financing Universal Merchant AAT-ETXQ3XXWMRXBG,Amazon PLCC Free-Financing Universal Merchant AAT-7X3XCTYG64VBE,Amazon PLCC Free-Financing Universal Merchant AAT-7CHGD3WTS3MHM,Amazon PLCC Free-Financing Universal Merchant AAT-26ZDKNME27X42,Amazon PLCC Free-Financing Universal Merchant AAT-4ZF5KN6E4LJK4,Amazon PLCC Free-Financing Universal Merchant AAT-7RCXIKUAX7DDY,Amazon PLCC Free-Financing Universal Merchant AAT-TNYBHEAO7HOHO,Amazon PLCC Free-Financing Universal Merchant AAT-BRSZZ45H6MHAO,Amazon PLCC Free-Financing Universal Merchant AAT-MKLXOOZWQL7GO,Amazon PLCC Free-Financing Universal Merchant AAT-CB7UNXEXGIJTC,Amazon PLCC Free-Financing Universal Merchant #MP-gzasho-1593152694811,Amazon PLCC Free-Financing Universal Merchant AAT-WLBA4GZ52EAH4,Amazon PLCC Free-Financing Universal Merchant AAT-QMFZ3M7T5NPDS,Amazon PLCC Free-Financing Universal Merchant #MP-pmilan-1601980554292'\n",
            " 'Amazon PLCC Free-Financing Universal Merchant AAT-WNKTBO3K27EJC,Amazon PLCC Free-Financing Universal Merchant AAT-QX3UCCJESKPA2,Amazon PLCC Free-Financing Universal Merchant AAT-5QQ7BIYYQEDN2,Amazon PLCC Free-Financing Universal Merchant AAT-DSJ2QRXXWXVMQ,Amazon PLCC Free-Financing Universal Merchant AAT-CXJHMC2YJUK76,Amazon PLCC Free-Financing Universal Merchant AAT-CC4FAVTYR4X7C,Amazon PLCC Free-Financing Universal Merchant AAT-XXRCW6NZEPZI4,Amazon PLCC Free-Financing Universal Merchant AAT-EOKPWFWYW7Y6I,Amazon PLCC Free-Financing Universal Merchant AAT-ZYL5UPUNW6T62,Amazon PLCC Free-Financing Universal Merchant AAT-ETXQ3XXWMRXBG,Amazon PLCC Free-Financing Universal Merchant AAT-7X3XCTYG64VBE,Amazon PLCC Free-Financing Universal Merchant AAT-7CHGD3WTS3MHM,Amazon PLCC Free-Financing Universal Merchant AAT-26ZDKNME27X42,Amazon PLCC Free-Financing Universal Merchant AAT-4ZF5KN6E4LJK4,Amazon PLCC Free-Financing Universal Merchant AAT-7RCXIKUAX7DDY,Amazon PLCC Free-Financing Universal Merchant AAT-BRSZZ45H6MHAO,Amazon PLCC Free-Financing Universal Merchant AAT-MKLXOOZWQL7GO,Amazon PLCC Free-Financing Universal Merchant AAT-CB7UNXEXGIJTC,Amazon PLCC Free-Financing Universal Merchant #MP-gzasho-1593152694811,Amazon PLCC Free-Financing Universal Merchant AAT-WLBA4GZ52EAH4,Amazon PLCC Free-Financing Universal Merchant #MP-pmilan-1601980554292'\n",
            " 'Amazon PLCC Free-Financing Universal Merchant AAT-WNKTBO3K27EJC,Amazon PLCC Free-Financing Universal Merchant AAT-QX3UCCJESKPA2,Amazon PLCC Free-Financing Universal Merchant AAT-5QQ7BIYYQEDN2,Amazon PLCC Free-Financing Universal Merchant AAT-DSJ2QRXXWXVMQ,Amazon PLCC Free-Financing Universal Merchant AAT-CXJHMC2YJUK76,Amazon PLCC Free-Financing Universal Merchant AAT-SL3Y2YRMAUNFC,Amazon PLCC Free-Financing Universal Merchant AAT-CC4FAVTYR4X7C,Amazon PLCC Free-Financing Universal Merchant AAT-XXRCW6NZEPZI4,Amazon PLCC Free-Financing Universal Merchant AAT-EOKPWFWYW7Y6I,Amazon PLCC Free-Financing Universal Merchant AAT-ZYL5UPUNW6T62,Amazon PLCC Free-Financing Universal Merchant AAT-ETXQ3XXWMRXBG,Amazon PLCC Free-Financing Universal Merchant AAT-7X3XCTYG64VBE,Amazon PLCC Free-Financing Universal Merchant AAT-7CHGD3WTS3MHM,Amazon PLCC Free-Financing Universal Merchant AAT-26ZDKNME27X42,Amazon PLCC Free-Financing Universal Merchant AAT-4ZF5KN6E4LJK4,Amazon PLCC Free-Financing Universal Merchant AAT-7RCXIKUAX7DDY,Amazon PLCC Free-Financing Universal Merchant AAT-BRSZZ45H6MHAO,Amazon PLCC Free-Financing Universal Merchant AAT-MKLXOOZWQL7GO,Amazon PLCC Free-Financing Universal Merchant AAT-CB7UNXEXGIJTC,Amazon PLCC Free-Financing Universal Merchant #MP-gzasho-1593152694811,Amazon PLCC Free-Financing Universal Merchant AAT-WLBA4GZ52EAH4'\n",
            " 'Amazon PLCC Free-Financing Universal Merchant AAT-WNKTBO3K27EJC,Amazon PLCC Free-Financing Universal Merchant AAT-QX3UCCJESKPA2,Amazon PLCC Free-Financing Universal Merchant AAT-5QQ7BIYYQEDN2,Amazon PLCC Free-Financing Universal Merchant AAT-DSJ2QRXXWXVMQ,Amazon PLCC Free-Financing Universal Merchant AAT-CXJHMC2YJUK76,Amazon PLCC Free-Financing Universal Merchant AAT-CC4FAVTYR4X7C,Amazon PLCC Free-Financing Universal Merchant AAT-XXRCW6NZEPZI4,Amazon PLCC Free-Financing Universal Merchant SS-1643890021772,Amazon PLCC Free-Financing Universal Merchant AAT-R7GXNZWISTRFA,Amazon PLCC Free-Financing Universal Merchant AAT-WSJLDN3X7KEMO,Amazon PLCC Free-Financing Universal Merchant AAT-VL6FGQVGQVXUS,Amazon PLCC Free-Financing Universal Merchant AAT-EOKPWFWYW7Y6I,Amazon PLCC Free-Financing Universal Merchant AAT-ZYL5UPUNW6T62,Amazon PLCC Free-Financing Universal Merchant AAT-ETXQ3XXWMRXBG,Amazon PLCC Free-Financing Universal Merchant AAT-7X3XCTYG64VBE,Amazon PLCC Free-Financing Universal Merchant AAT-7CHGD3WTS3MHM,Amazon PLCC Free-Financing Universal Merchant AAT-26ZDKNME27X42,Amazon PLCC Free-Financing Universal Merchant AAT-4ZF5KN6E4LJK4,Amazon PLCC Free-Financing Universal Merchant AAT-7RCXIKUAX7DDY,Amazon PLCC Free-Financing Universal Merchant AAT-BRSZZ45H6MHAO,Amazon PLCC Free-Financing Universal Merchant AAT-MKLXOOZWQL7GO,Amazon PLCC Free-Financing Universal Merchant AAT-CB7UNXEXGIJTC,Amazon PLCC Free-Financing Universal Merchant #MP-gzasho-1593152694811,Amazon PLCC Free-Financing Universal Merchant AAT-WLBA4GZ52EAH4'\n",
            " 'Amazon PLCC Free-Financing Universal Merchant AAT-WNKTBO3K27EJC,Amazon PLCC Free-Financing Universal Merchant AAT-QX3UCCJESKPA2,Amazon PLCC Free-Financing Universal Merchant AAT-5QQ7BIYYQEDN2,Amazon PLCC Free-Financing Universal Merchant AAT-DSJ2QRXXWXVMQ,Amazon PLCC Free-Financing Universal Merchant AAT-CXJHMC2YJUK76,Amazon PLCC Free-Financing Universal Merchant AAT-CC4FAVTYR4X7C,Amazon PLCC Free-Financing Universal Merchant AAT-XXRCW6NZEPZI4,Amazon PLCC Free-Financing Universal Merchant AAT-R7GXNZWISTRFA,Amazon PLCC Free-Financing Universal Merchant AAT-EOKPWFWYW7Y6I,Amazon PLCC Free-Financing Universal Merchant AAT-ZYL5UPUNW6T62,Amazon PLCC Free-Financing Universal Merchant AAT-ETXQ3XXWMRXBG,Amazon PLCC Free-Financing Universal Merchant AAT-7X3XCTYG64VBE,Amazon PLCC Free-Financing Universal Merchant AAT-7CHGD3WTS3MHM,Amazon PLCC Free-Financing Universal Merchant AAT-26ZDKNME27X42,Amazon PLCC Free-Financing Universal Merchant AAT-4ZF5KN6E4LJK4,Amazon PLCC Free-Financing Universal Merchant AAT-7RCXIKUAX7DDY,Amazon PLCC Free-Financing Universal Merchant AAT-BRSZZ45H6MHAO,Amazon PLCC Free-Financing Universal Merchant AAT-MKLXOOZWQL7GO,Amazon PLCC Free-Financing Universal Merchant AAT-CB7UNXEXGIJTC,Amazon PLCC Free-Financing Universal Merchant #MP-gzasho-1593152694811,Amazon PLCC Free-Financing Universal Merchant AAT-WLBA4GZ52EAH4'\n",
            " 'Duplicated A12RHGVGRWOT3S 1560498941486'\n",
            " 'Amazon PLCC Free-Financing Universal Merchant AAT-WNKTBO3K27EJC,Amazon PLCC Free-Financing Universal Merchant AAT-QX3UCCJESKPA2,Amazon PLCC Free-Financing Universal Merchant AAT-5QQ7BIYYQEDN2,Amazon PLCC Free-Financing Universal Merchant AAT-DSJ2QRXXWXVMQ,Amazon PLCC Free-Financing Universal Merchant AAT-CXJHMC2YJUK76,Amazon PLCC Free-Financing Universal Merchant AAT-SL3Y2YRMAUNFC,Amazon PLCC Free-Financing Universal Merchant AAT-CC4FAVTYR4X7C,Amazon PLCC Free-Financing Universal Merchant AAT-XXRCW6NZEPZI4,Amazon PLCC Free-Financing Universal Merchant AAT-R7GXNZWISTRFA,Amazon PLCC Free-Financing Universal Merchant AAT-EOKPWFWYW7Y6I,Amazon PLCC Free-Financing Universal Merchant AAT-ZYL5UPUNW6T62,Amazon PLCC Free-Financing Universal Merchant AAT-ETXQ3XXWMRXBG,Amazon PLCC Free-Financing Universal Merchant AAT-7X3XCTYG64VBE,Amazon PLCC Free-Financing Universal Merchant AAT-7CHGD3WTS3MHM,Amazon PLCC Free-Financing Universal Merchant AAT-26ZDKNME27X42,Amazon PLCC Free-Financing Universal Merchant AAT-4ZF5KN6E4LJK4,Amazon PLCC Free-Financing Universal Merchant AAT-7RCXIKUAX7DDY,Amazon PLCC Free-Financing Universal Merchant AAT-TNYBHEAO7HOHO,Amazon PLCC Free-Financing Universal Merchant AAT-BRSZZ45H6MHAO,Amazon PLCC Free-Financing Universal Merchant AAT-MKLXOOZWQL7GO,Amazon PLCC Free-Financing Universal Merchant AAT-CB7UNXEXGIJTC,Amazon PLCC Free-Financing Universal Merchant #MP-gzasho-1593152694811,Amazon PLCC Free-Financing Universal Merchant AAT-WLBA4GZ52EAH4,Amazon PLCC Free-Financing Universal Merchant AAT-QMFZ3M7T5NPDS,Amazon PLCC Free-Financing Universal Merchant #MP-pmilan-1601980554292'\n",
            " 'Amazon PLCC Free-Financing Universal Merchant AAT-WNKTBO3K27EJC,Amazon PLCC Free-Financing Universal Merchant AAT-QX3UCCJESKPA2,Amazon PLCC Free-Financing Universal Merchant AAT-5QQ7BIYYQEDN2,Amazon PLCC Free-Financing Universal Merchant AAT-DSJ2QRXXWXVMQ,Amazon PLCC Free-Financing Universal Merchant AAT-CXJHMC2YJUK76,Amazon PLCC Free-Financing Universal Merchant AAT-SL3Y2YRMAUNFC,Amazon PLCC Free-Financing Universal Merchant AAT-CC4FAVTYR4X7C,Amazon PLCC Free-Financing Universal Merchant AAT-XXRCW6NZEPZI4,Amazon PLCC Free-Financing Universal Merchant AAT-EOKPWFWYW7Y6I,Amazon PLCC Free-Financing Universal Merchant AAT-ETXQ3XXWMRXBG,Amazon PLCC Free-Financing Universal Merchant AAT-7X3XCTYG64VBE,Amazon PLCC Free-Financing Universal Merchant AAT-7CHGD3WTS3MHM,Amazon PLCC Free-Financing Universal Merchant AAT-26ZDKNME27X42,Amazon PLCC Free-Financing Universal Merchant AAT-4ZF5KN6E4LJK4,Amazon PLCC Free-Financing Universal Merchant AAT-7RCXIKUAX7DDY,Amazon PLCC Free-Financing Universal Merchant AAT-BRSZZ45H6MHAO,Amazon PLCC Free-Financing Universal Merchant AAT-MKLXOOZWQL7GO,Amazon PLCC Free-Financing Universal Merchant AAT-CB7UNXEXGIJTC,Amazon PLCC Free-Financing Universal Merchant #MP-gzasho-1593152694811,Amazon PLCC Free-Financing Universal Merchant AAT-WLBA4GZ52EAH4']\n"
          ]
        }
      ]
    },
    {
      "cell_type": "code",
      "source": [
        "print(df['b2b'].unique())"
      ],
      "metadata": {
        "colab": {
          "base_uri": "https://localhost:8080/"
        },
        "id": "oPjfCCNrnkgh",
        "outputId": "07ce614d-9b87-4b0b-e2eb-6b80bed01159"
      },
      "execution_count": 795,
      "outputs": [
        {
          "output_type": "stream",
          "name": "stdout",
          "text": [
            "[False  True]\n"
          ]
        }
      ]
    },
    {
      "cell_type": "code",
      "source": [
        "df['fulfilled_by'] = df['fulfilled_by'].fillna(\"Unknown\")\n",
        "df['fulfilled_by'] = df['fulfilled_by'].astype(str).str.strip().str.title()\n",
        "\n",
        "print(df['fulfilled_by'].unique())"
      ],
      "metadata": {
        "colab": {
          "base_uri": "https://localhost:8080/"
        },
        "id": "r_a4-N9Cnw7s",
        "outputId": "4c61ec1a-f224-45ad-9022-40fbe49493f5"
      },
      "execution_count": 796,
      "outputs": [
        {
          "output_type": "stream",
          "name": "stdout",
          "text": [
            "['Easy Ship' 'Unknown']\n"
          ]
        }
      ]
    },
    {
      "cell_type": "code",
      "source": [
        "df.drop(columns=[\"unnamed:_22\"], inplace= True)"
      ],
      "metadata": {
        "id": "ths9C97Wn1Qi"
      },
      "execution_count": 797,
      "outputs": []
    },
    {
      "cell_type": "code",
      "source": [
        "df.info()"
      ],
      "metadata": {
        "colab": {
          "base_uri": "https://localhost:8080/"
        },
        "id": "8TMw-Q0wmjoI",
        "outputId": "eeaf93ab-a63f-49b8-ec33-813a94c9e3a1"
      },
      "execution_count": 798,
      "outputs": [
        {
          "output_type": "stream",
          "name": "stdout",
          "text": [
            "<class 'pandas.core.frame.DataFrame'>\n",
            "Index: 128943 entries, 0 to 128948\n",
            "Data columns (total 22 columns):\n",
            " #   Column              Non-Null Count   Dtype         \n",
            "---  ------              --------------   -----         \n",
            " 0   order_id            128943 non-null  object        \n",
            " 1   date                128943 non-null  datetime64[ns]\n",
            " 2   status              128943 non-null  object        \n",
            " 3   fulfilment          128943 non-null  object        \n",
            " 4   sales_channel       128943 non-null  object        \n",
            " 5   ship_service_level  128943 non-null  object        \n",
            " 6   style               128943 non-null  object        \n",
            " 7   sku                 128943 non-null  object        \n",
            " 8   category            128943 non-null  object        \n",
            " 9   size                128943 non-null  object        \n",
            " 10  asin                128943 non-null  object        \n",
            " 11  courier_status      128943 non-null  object        \n",
            " 12  qty                 128943 non-null  int64         \n",
            " 13  currency            128943 non-null  object        \n",
            " 14  amount              128943 non-null  float64       \n",
            " 15  ship_city           128943 non-null  object        \n",
            " 16  ship_state          128943 non-null  object        \n",
            " 17  ship_postal_code    128943 non-null  int64         \n",
            " 18  ship_country        128943 non-null  object        \n",
            " 19  promotion_ids       128943 non-null  object        \n",
            " 20  b2b                 128943 non-null  bool          \n",
            " 21  fulfilled_by        128943 non-null  object        \n",
            "dtypes: bool(1), datetime64[ns](1), float64(1), int64(2), object(17)\n",
            "memory usage: 21.8+ MB\n"
          ]
        }
      ]
    },
    {
      "cell_type": "markdown",
      "source": [
        "**Financial Performance Analysis**"
      ],
      "metadata": {
        "id": "5YIy1sr3dow5"
      }
    },
    {
      "cell_type": "markdown",
      "source": [
        "Total Revenue Trend"
      ],
      "metadata": {
        "id": "Hn5D7rHbp4wx"
      }
    },
    {
      "cell_type": "code",
      "source": [
        "import matplotlib.pyplot as plt\n",
        "\n",
        "df['year_month'] = df['date'].dt.to_period('M')\n",
        "revenue_trend = df.groupby('year_month')['amount'].sum()\n",
        "\n",
        "revenue_trend.plot(kind='line', figsize=(10,5), marker='o')\n",
        "plt.title(\"Total Revenue Trend Over Time\")\n",
        "plt.xlabel(\"Month-Year\")\n",
        "plt.ylabel(\"Revenue\")\n",
        "plt.show()\n"
      ],
      "metadata": {
        "colab": {
          "base_uri": "https://localhost:8080/",
          "height": 479
        },
        "id": "QMawDOHIpt3n",
        "outputId": "290b4fb3-d635-4c95-cd62-041032b8ee54"
      },
      "execution_count": 799,
      "outputs": [
        {
          "output_type": "display_data",
          "data": {
            "text/plain": [
              "<Figure size 1000x500 with 1 Axes>"
            ],
            "image/png": "[encoded data removed]"
          },
          "metadata": {}
        }
      ]
    },
    {
      "cell_type": "markdown",
      "source": [
        "Best Selling Products"
      ],
      "metadata": {
        "id": "GkkemmEHs3O7"
      }
    },
    {
      "cell_type": "code",
      "source": [
        "category_sales = df.groupby('category')['amount'].sum().sort_values(ascending=False).head(10)\n",
        "print(category_sales)\n",
        "\n",
        "category_sales.plot(kind='bar', figsize=(10,5))\n",
        "plt.title(\"Top 10 Best-Selling Categories\")\n",
        "plt.ylabel(\"Revenue\")\n",
        "plt.show()"
      ],
      "metadata": {
        "colab": {
          "base_uri": "https://localhost:8080/",
          "height": 746
        },
        "id": "gvROHDOKtC9v",
        "outputId": "e9ee23f0-8515-4f64-bdb9-c258517cecde"
      },
      "execution_count": 800,
      "outputs": [
        {
          "output_type": "stream",
          "name": "stdout",
          "text": [
            "category\n",
            "Set              35785493.14\n",
            "Kurta            19481051.48\n",
            "Western Dress    10209098.00\n",
            "Top               4909759.00\n",
            "Ethnic Dress       732138.00\n",
            "Blouse             420877.00\n",
            "Bottom             136075.00\n",
            "Saree              114694.00\n",
            "Dupatta               915.00\n",
            "Name: amount, dtype: float64\n"
          ]
        },
        {
          "output_type": "display_data",
          "data": {
            "text/plain": [
              "<Figure size 1000x500 with 1 Axes>"
            ],
            "image/png": "[encoded data removed]"
          },
          "metadata": {}
        }
      ]
    },
    {
      "cell_type": "code",
      "source": [
        "best_selling = df.groupby('category')['qty'].sum().sort_values(ascending=False)\n",
        "print(best_selling.head(10))"
      ],
      "metadata": {
        "colab": {
          "base_uri": "https://localhost:8080/"
        },
        "id": "Xw2DkNRWBia8",
        "outputId": "09e03416-a0df-4117-d124-adc897c3213d"
      },
      "execution_count": 801,
      "outputs": [
        {
          "output_type": "stream",
          "name": "stdout",
          "text": [
            "category\n",
            "Set              45286\n",
            "Kurta            45048\n",
            "Western Dress    13943\n",
            "Top               9902\n",
            "Ethnic Dress      1052\n",
            "Blouse             864\n",
            "Bottom             398\n",
            "Saree              152\n",
            "Dupatta              3\n",
            "Name: qty, dtype: int64\n"
          ]
        }
      ]
    },
    {
      "cell_type": "code",
      "source": [
        "monthly_sales = df.groupby(df['date'].dt.month)['amount'].sum()\n",
        "print(monthly_sales)\n",
        "\n",
        "monthly_sales.plot(kind='bar', title='Monthly Sales Trends', xlabel='Month', ylabel='Revenue')"
      ],
      "metadata": {
        "colab": {
          "base_uri": "https://localhost:8080/",
          "height": 588
        },
        "id": "CqRuMS_VB9co",
        "outputId": "d704757b-23f8-4796-a701-088c1e39abe5"
      },
      "execution_count": 802,
      "outputs": [
        {
          "output_type": "stream",
          "name": "stdout",
          "text": [
            "date\n",
            "3       95432.00\n",
            "4    26285730.62\n",
            "5    23987615.00\n",
            "6    21421323.00\n",
            "Name: amount, dtype: float64\n"
          ]
        },
        {
          "output_type": "execute_result",
          "data": {
            "text/plain": [
              "<Axes: title={'center': 'Monthly Sales Trends'}, xlabel='Month', ylabel='Revenue'>"
            ]
          },
          "metadata": {},
          "execution_count": 802
        },
        {
          "output_type": "display_data",
          "data": {
            "text/plain": [
              "<Figure size 640x480 with 1 Axes>"
            ],
            "image/png": "[encoded data removed]"
          },
          "metadata": {}
        }
      ]
    },
    {
      "cell_type": "markdown",
      "source": [
        "Average Order Value"
      ],
      "metadata": {
        "id": "zIgTrJWwtaXs"
      }
    },
    {
      "cell_type": "code",
      "source": [
        "total_revenue = df['amount'].sum()\n",
        "total_orders = df['order_id'].nunique()\n",
        "aov = total_revenue / total_orders\n",
        "\n",
        "print(\"Average Order Value (AOV):\", round(aov,2))"
      ],
      "metadata": {
        "colab": {
          "base_uri": "https://localhost:8080/"
        },
        "id": "yy0sTj4vs2vS",
        "outputId": "ecde4aaf-a189-49f7-d1ef-747ed1e7dab0"
      },
      "execution_count": 803,
      "outputs": [
        {
          "output_type": "stream",
          "name": "stdout",
          "text": [
            "Average Order Value (AOV): 596.5\n"
          ]
        }
      ]
    },
    {
      "cell_type": "markdown",
      "source": [
        "**Customer Insights Analysis**"
      ],
      "metadata": {
        "id": "Vut5KSAKteF0"
      }
    },
    {
      "cell_type": "markdown",
      "source": [
        "Top Performing locations by Sale"
      ],
      "metadata": {
        "id": "emPk8WyMtnW1"
      }
    },
    {
      "cell_type": "code",
      "source": [
        "state_sales = df.groupby('ship_state')['amount'].sum().sort_values(ascending=False).head(10)\n",
        "print(state_sales)\n",
        "\n",
        "state_sales.plot(kind='bar', figsize=(10,5))\n",
        "plt.title(\"Top 10 States by Revenue\")\n",
        "plt.ylabel(\"Revenue\")\n",
        "plt.show()"
      ],
      "metadata": {
        "colab": {
          "base_uri": "https://localhost:8080/",
          "height": 774
        },
        "id": "3R4eTPgwtq7t",
        "outputId": "23da9758-a1c9-4ecf-a250-5d4d2544d24c"
      },
      "execution_count": 804,
      "outputs": [
        {
          "output_type": "stream",
          "name": "stdout",
          "text": [
            "ship_state\n",
            "Maharashtra       12235024.00\n",
            "Karnataka          9648714.00\n",
            "Telangana          6294192.57\n",
            "Uttar Pradesh      6184900.00\n",
            "Tamil Nadu         5959741.00\n",
            "Delhi              4052167.48\n",
            "Kerala             3378910.00\n",
            "West Bengal        3208440.00\n",
            "Andhra Pradesh     2887260.00\n",
            "Haryana            2655377.00\n",
            "Name: amount, dtype: float64\n"
          ]
        },
        {
          "output_type": "display_data",
          "data": {
            "text/plain": [
              "<Figure size 1000x500 with 1 Axes>"
            ],
            "image/png": "[encoded data removed]"
          },
          "metadata": {}
        }
      ]
    },
    {
      "cell_type": "code",
      "source": [
        "top_cities = df.groupby('ship_city')['amount'].sum().sort_values(ascending=False)\n",
        "print(top_cities.head(10))"
      ],
      "metadata": {
        "colab": {
          "base_uri": "https://localhost:8080/"
        },
        "id": "uRCtgoErCkG0",
        "outputId": "c7743085-e774-4aed-a93d-a5dbadc4180b"
      },
      "execution_count": 805,
      "outputs": [
        {
          "output_type": "stream",
          "name": "stdout",
          "text": [
            "ship_city\n",
            "Bengaluru    6726061.00\n",
            "Hyderabad    5087098.57\n",
            "Mumbai       3958748.00\n",
            "New Delhi    3636084.48\n",
            "Chennai      3299494.00\n",
            "Pune         2579430.00\n",
            "Kolkata      1548410.00\n",
            "Gurugram     1190925.00\n",
            "Thane        1016372.00\n",
            "Lucknow       958626.00\n",
            "Name: amount, dtype: float64\n"
          ]
        }
      ]
    },
    {
      "cell_type": "markdown",
      "source": [
        "Cancellation Rate"
      ],
      "metadata": {
        "id": "xmK0WrDEtvjd"
      }
    },
    {
      "cell_type": "code",
      "source": [
        "total_orders = df['order_id'].nunique()\n",
        "cancelled_orders = df[df['status']== \"Cancelled\"]['order_id'].nunique()\n",
        "cancellation_rate = (cancelled_orders / total_orders) * 100\n",
        "\n",
        "print(\"Cancellation Rate:\", round(cancellation_rate, 2), \"%\")"
      ],
      "metadata": {
        "colab": {
          "base_uri": "https://localhost:8080/"
        },
        "id": "L7qwaGFRtzxA",
        "outputId": "f8d9a50c-1983-4367-ed07-7a380d2eb97d"
      },
      "execution_count": 806,
      "outputs": [
        {
          "output_type": "stream",
          "name": "stdout",
          "text": [
            "Cancellation Rate: 14.29 %\n"
          ]
        }
      ]
    },
    {
      "cell_type": "markdown",
      "source": [
        "B2B vs B2C Revenue"
      ],
      "metadata": {
        "id": "P0bPtFn9t1b5"
      }
    },
    {
      "cell_type": "code",
      "source": [
        "b2b_sales = df.groupby('b2b')['amount'].sum()\n",
        "print(b2b_sales)\n",
        "\n",
        "b2b_sales.plot(kind='bar', figsize=(6,4))\n",
        "plt.title(\"B2B vs B2C Revenue\")\n",
        "plt.ylabel(\"Revenue\")\n",
        "plt.show()"
      ],
      "metadata": {
        "colab": {
          "base_uri": "https://localhost:8080/",
          "height": 500
        },
        "id": "r0A7QfCkt_uR",
        "outputId": "1695a097-3927-4590-bcd5-80f7b0477bea"
      },
      "execution_count": 807,
      "outputs": [
        {
          "output_type": "stream",
          "name": "stdout",
          "text": [
            "b2b\n",
            "False    71230078.62\n",
            "True       560022.00\n",
            "Name: amount, dtype: float64\n"
          ]
        },
        {
          "output_type": "display_data",
          "data": {
            "text/plain": [
              "<Figure size 600x400 with 1 Axes>"
            ],
            "image/png": "[encoded data removed]"
          },
          "metadata": {}
        }
      ]
    },
    {
      "cell_type": "markdown",
      "source": [
        "**Logistics and Fulfilment optimization**"
      ],
      "metadata": {
        "id": "6xHZRx0VuHVM"
      }
    },
    {
      "cell_type": "markdown",
      "source": [
        "Fulfilment Comparsion"
      ],
      "metadata": {
        "id": "bH4VWb3yuTLR"
      }
    },
    {
      "cell_type": "code",
      "source": [
        "fulfillment_sales = df.groupby('fulfilment')['amount'].sum().sort_values(ascending=False)\n",
        "print(fulfillment_sales)\n",
        "\n",
        "fulfillment_sales.plot(kind='bar', figsize=(8,5))\n",
        "plt.title(\"Revenue by fulfillment Method\")\n",
        "plt.ylabel(\"Revenue\")\n",
        "plt.show()"
      ],
      "metadata": {
        "colab": {
          "base_uri": "https://localhost:8080/",
          "height": 607
        },
        "id": "4EMqSDPbuZqM",
        "outputId": "957add2a-4436-4aa8-e7fe-d331da36a57f"
      },
      "execution_count": 808,
      "outputs": [
        {
          "output_type": "stream",
          "name": "stdout",
          "text": [
            "fulfilment\n",
            "Amazon      50707093.00\n",
            "Merchant    21083007.62\n",
            "Name: amount, dtype: float64\n"
          ]
        },
        {
          "output_type": "display_data",
          "data": {
            "text/plain": [
              "<Figure size 800x500 with 1 Axes>"
            ],
            "image/png": "[encoded data removed]"
          },
          "metadata": {}
        }
      ]
    },
    {
      "cell_type": "markdown",
      "source": [
        "Status Distribution"
      ],
      "metadata": {
        "id": "tOrPQufBurME"
      }
    },
    {
      "cell_type": "code",
      "source": [
        "status_counts = df['status'].value_counts()\n",
        "print(status_counts)\n",
        "\n",
        "status_counts.plot(kind='bar', figsize=(10,5))\n",
        "plt.title(\"Order Status Distribution\")\n",
        "plt.xlabel(\"Status\")\n",
        "plt.ylabel(\"Count\")\n",
        "plt.show()"
      ],
      "metadata": {
        "colab": {
          "base_uri": "https://localhost:8080/",
          "height": 760
        },
        "id": "6bsiB9sjuvHp",
        "outputId": "45a3faaf-f1e6-4a06-e48e-12b91f39ae1a"
      },
      "execution_count": 809,
      "outputs": [
        {
          "output_type": "stream",
          "name": "stdout",
          "text": [
            "status\n",
            "Shipped             77772\n",
            "Delivered           28771\n",
            "Cancelled           18338\n",
            "Returned             2098\n",
            "Picked Up             973\n",
            "Pending               939\n",
            "Out for Delivery       35\n",
            "Rejected               11\n",
            "Lost                    5\n",
            "Damaged                 1\n",
            "Name: count, dtype: int64\n"
          ]
        },
        {
          "output_type": "display_data",
          "data": {
            "text/plain": [
              "<Figure size 1000x500 with 1 Axes>"
            ],
            "image/png": "[encoded data removed]"
          },
          "metadata": {}
        }
      ]
    },
    {
      "cell_type": "markdown",
      "source": [
        "**Product & Inventory optimization**"
      ],
      "metadata": {
        "id": "BEXKNlxavrPy"
      }
    },
    {
      "cell_type": "markdown",
      "source": [
        "High Demand product Categories"
      ],
      "metadata": {
        "id": "_L3Kwh1kwIx6"
      }
    },
    {
      "cell_type": "code",
      "source": [
        "top_categories = df.groupby('category')['qty'].sum().sort_values(ascending=False)\n",
        "print(top_categories.head(10))"
      ],
      "metadata": {
        "colab": {
          "base_uri": "https://localhost:8080/"
        },
        "id": "sgXZ7bwBEW6M",
        "outputId": "bfe13551-c9df-4675-d722-02021d8a5282"
      },
      "execution_count": 810,
      "outputs": [
        {
          "output_type": "stream",
          "name": "stdout",
          "text": [
            "category\n",
            "Set              45286\n",
            "Kurta            45048\n",
            "Western Dress    13943\n",
            "Top               9902\n",
            "Ethnic Dress      1052\n",
            "Blouse             864\n",
            "Bottom             398\n",
            "Saree              152\n",
            "Dupatta              3\n",
            "Name: qty, dtype: int64\n"
          ]
        }
      ]
    },
    {
      "cell_type": "markdown",
      "source": [
        "Average Quantity Ordered"
      ],
      "metadata": {
        "id": "-9Dlm5EhEi3O"
      }
    },
    {
      "cell_type": "code",
      "source": [
        "avg_quantity = df['qty'].mean()\n",
        "avg_quantity_rounded = round(avg_quantity)\n",
        "print(\"Average Quantity Ordered per Product:\", avg_quantity_rounded)"
      ],
      "metadata": {
        "colab": {
          "base_uri": "https://localhost:8080/"
        },
        "id": "R5c6KHIjEfOs",
        "outputId": "8c7ff266-6ef6-41f4-cc77-3df3e5eb71f3"
      },
      "execution_count": 811,
      "outputs": [
        {
          "output_type": "stream",
          "name": "stdout",
          "text": [
            "Average Quantity Ordered per Product: 1\n"
          ]
        }
      ]
    },
    {
      "cell_type": "markdown",
      "source": [
        "**Customer Satisfaction & Returns Analysis**"
      ],
      "metadata": {
        "id": "AyiXHOzpFF04"
      }
    },
    {
      "cell_type": "markdown",
      "source": [
        "High Returns and cancellation rate"
      ],
      "metadata": {
        "id": "m3hH0VMNFI_y"
      }
    },
    {
      "cell_type": "code",
      "source": [
        "returns = df[df['status'].isin(['Cancelled','Returned'])]\n",
        "returns_by_style = returns.groupby('style')['qty'].sum().sort_values(ascending=False)\n",
        "print(returns_by_style.head(10))"
      ],
      "metadata": {
        "colab": {
          "base_uri": "https://localhost:8080/"
        },
        "id": "A3H0D3gRFNgm",
        "outputId": "1d51457c-bfec-4155-b9c7-4bba00d34cae"
      },
      "execution_count": 812,
      "outputs": [
        {
          "output_type": "stream",
          "name": "stdout",
          "text": [
            "style\n",
            "JNE3797    220\n",
            "JNE3405    152\n",
            "SET268     133\n",
            "J0230      117\n",
            "J0003      106\n",
            "J0341       98\n",
            "SET324      90\n",
            "JNE3440     88\n",
            "SET345      81\n",
            "JNE3399     77\n",
            "Name: qty, dtype: int64\n"
          ]
        }
      ]
    },
    {
      "cell_type": "code",
      "source": [
        "return_rate = returns.groupby('category')['qty'].sum() /df.groupby('category')['qty'].sum() * 100\n",
        "print(return_rate.sort_values(ascending=False))"
      ],
      "metadata": {
        "colab": {
          "base_uri": "https://localhost:8080/"
        },
        "id": "KhDD-f30F3CY",
        "outputId": "5906cf2c-1e86-45cc-ae98-88251215e122"
      },
      "execution_count": 813,
      "outputs": [
        {
          "output_type": "stream",
          "name": "stdout",
          "text": [
            "category\n",
            "Set              6.856424\n",
            "Top              6.776409\n",
            "Kurta            6.719499\n",
            "Western Dress    6.246862\n",
            "Ethnic Dress     5.133080\n",
            "Blouse           5.092593\n",
            "Bottom           5.025126\n",
            "Saree            3.947368\n",
            "Dupatta               NaN\n",
            "Name: qty, dtype: float64\n"
          ]
        }
      ]
    },
    {
      "cell_type": "markdown",
      "source": [
        "Problematic products"
      ],
      "metadata": {
        "id": "RUHB7eZSGgeD"
      }
    },
    {
      "cell_type": "code",
      "source": [
        "problem_orders = df[df['status'].isin(['Cancelled','Returned','Refunded'])]\n",
        "\n",
        "problem_products = problem_orders.groupby('style')['qty'].sum().sort_values(ascending=False)\n",
        "print(\"Top 10 Problematic Products (by qty):\")\n",
        "print(problem_products.head(10))\n",
        "\n",
        "problem_categories = problem_orders.groupby('category')['qty'].sum().sort_values(ascending=False)\n",
        "print(\"Top 10 Problematic Categories (by qty):\")\n",
        "print(problem_categories.head(10))"
      ],
      "metadata": {
        "colab": {
          "base_uri": "https://localhost:8080/"
        },
        "id": "-XS7H_fLGpV2",
        "outputId": "313461ce-f79c-410d-dd0d-bf3e94394f4a"
      },
      "execution_count": 814,
      "outputs": [
        {
          "output_type": "stream",
          "name": "stdout",
          "text": [
            "Top 10 Problematic Products (by qty):\n",
            "style\n",
            "JNE3797    220\n",
            "JNE3405    152\n",
            "SET268     133\n",
            "J0230      117\n",
            "J0003      106\n",
            "J0341       98\n",
            "SET324      90\n",
            "JNE3440     88\n",
            "SET345      81\n",
            "JNE3399     77\n",
            "Name: qty, dtype: int64\n",
            "Top 10 Problematic Categories (by qty):\n",
            "category\n",
            "Set              3105\n",
            "Kurta            3027\n",
            "Western Dress     871\n",
            "Top               671\n",
            "Ethnic Dress       54\n",
            "Blouse             44\n",
            "Bottom             20\n",
            "Saree               6\n",
            "Name: qty, dtype: int64\n"
          ]
        }
      ]
    },
    {
      "cell_type": "code",
      "source": [
        "\n",
        "june_orders = df[df['date'].dt.month == 6]\n",
        "\n",
        "\n",
        "total_revenue_june = june_orders['amount'].sum()\n",
        "\n",
        "print(\"Total Revenue Generated in June:\", round(total_revenue_june, 2))"
      ],
      "metadata": {
        "colab": {
          "base_uri": "https://localhost:8080/"
        },
        "id": "0DMVaYr5_OqP",
        "outputId": "8abe7189-1dce-496b-f39f-a69f9d1a9628"
      },
      "execution_count": 815,
      "outputs": [
        {
          "output_type": "stream",
          "name": "stdout",
          "text": [
            "Total Revenue Generated in June: 21421323.0\n"
          ]
        }
      ]
    },
    {
      "cell_type": "code",
      "source": [
        "m_set_orders = df[(df['size'] == 'M') & (df['category'] == 'Set')]\n",
        "\n",
        "total_qty_m_set = m_set_orders['qty'].sum()\n",
        "\n",
        "print(\"Total Quantity Sold in Size M from Set:\", total_qty_m_set)"
      ],
      "metadata": {
        "colab": {
          "base_uri": "https://localhost:8080/"
        },
        "id": "klysY0vF_kRR",
        "outputId": "b43a7fa3-4d43-4ba7-cc2d-61b90f100a09"
      },
      "execution_count": 816,
      "outputs": [
        {
          "output_type": "stream",
          "name": "stdout",
          "text": [
            "Total Quantity Sold in Size M from Set: 8357\n"
          ]
        }
      ]
    },
    {
      "cell_type": "code",
      "source": [
        "cancelled_orders = df[df['status'] == 'Cancelled']\n",
        "\n",
        "total_cancelled = len(cancelled_orders)\n",
        "print(\"Total Cancelled Orders:\", total_cancelled)"
      ],
      "metadata": {
        "colab": {
          "base_uri": "https://localhost:8080/"
        },
        "id": "Gio9nzQO_0ry",
        "outputId": "0debda9a-e3e1-48c2-94bd-56d2d5d7bd73"
      },
      "execution_count": 817,
      "outputs": [
        {
          "output_type": "stream",
          "name": "stdout",
          "text": [
            "Total Cancelled Orders: 18338\n"
          ]
        }
      ]
    },
    {
      "cell_type": "code",
      "source": [
        "sales_by_date = df.groupby('date')['amount'].sum()\n",
        "\n",
        "max_sales_date = sales_by_date.idxmax()\n",
        "max_sales_value = sales_by_date.max()\n",
        "\n",
        "print(\"Date with Highest Sales:\", max_sales_date)\n",
        "print(\"Sales Amount on that Date:\", round(max_sales_value, 2))"
      ],
      "metadata": {
        "colab": {
          "base_uri": "https://localhost:8080/"
        },
        "id": "Z_B0pLlwAkMa",
        "outputId": "d7784950-56f5-4e2a-c755-48fb20958961"
      },
      "execution_count": 818,
      "outputs": [
        {
          "output_type": "stream",
          "name": "stdout",
          "text": [
            "Date with Highest Sales: 2022-05-04 00:00:00\n",
            "Sales Amount on that Date: 1108697.0\n"
          ]
        }
      ]
    },
    {
      "cell_type": "code",
      "source": [
        "may_orders = df[df['date'].dt.month == 5]\n",
        "\n",
        "total_revenue_may = may_orders['amount'].sum()\n",
        "\n",
        "print(\"Total Revenue in May:\", round(total_revenue_may, 2))"
      ],
      "metadata": {
        "colab": {
          "base_uri": "https://localhost:8080/"
        },
        "id": "1aiInPD2Fkob",
        "outputId": "00beea0b-4142-4a0f-c2e3-82f4cc717142"
      },
      "execution_count": 819,
      "outputs": [
        {
          "output_type": "stream",
          "name": "stdout",
          "text": [
            "Total Revenue in May: 23987615.0\n"
          ]
        }
      ]
    },
    {
      "cell_type": "code",
      "source": [
        "sales_by_city = df.groupby('ship_city')['amount'].sum().sort_values(ascending=False)\n",
        "\n",
        "second_city = sales_by_city.index[1]\n",
        "second_city_sales = sales_by_city.iloc[1]\n",
        "\n",
        "print(\"City with 2nd Highest Sales:\", second_city)\n",
        "print(\"Sales Amount:\", round(second_city_sales, 2))"
      ],
      "metadata": {
        "colab": {
          "base_uri": "https://localhost:8080/"
        },
        "id": "stjWnMrjGB9n",
        "outputId": "915a4f3c-90ed-4769-bc3b-81d63c861395"
      },
      "execution_count": 820,
      "outputs": [
        {
          "output_type": "stream",
          "name": "stdout",
          "text": [
            "City with 2nd Highest Sales: Hyderabad\n",
            "Sales Amount: 5087098.57\n"
          ]
        }
      ]
    },
    {
      "cell_type": "code",
      "source": [
        "cancel_rate_by_month = (\n",
        "    df.groupby(df['date'].dt.month)\n",
        "    .apply(lambda x: (x[x['courier_status']=='Cancelled'].shape[0] / x.shape[0]) * 100)\n",
        ")\n",
        "\n",
        "print(cancel_rate_by_month)"
      ],
      "metadata": {
        "colab": {
          "base_uri": "https://localhost:8080/"
        },
        "id": "wORc2aB58OpV",
        "outputId": "2af064f7-31cb-4470-bd98-419e3f48e2b3"
      },
      "execution_count": 821,
      "outputs": [
        {
          "output_type": "stream",
          "name": "stdout",
          "text": [
            "date\n",
            "3    5.263158\n",
            "4    4.596787\n",
            "5    4.460887\n",
            "6    4.755334\n",
            "dtype: float64\n"
          ]
        }
      ]
    },
    {
      "cell_type": "code",
      "source": [
        "total_revenue = df['amount'].sum()\n",
        "print(\"Total Revenue: \", total_revenue)"
      ],
      "metadata": {
        "colab": {
          "base_uri": "https://localhost:8080/"
        },
        "id": "U16L15blR_Q3",
        "outputId": "206b0b29-e180-41f3-e4c6-c36e3f3fc9e0"
      },
      "execution_count": 822,
      "outputs": [
        {
          "output_type": "stream",
          "name": "stdout",
          "text": [
            "Total Revenue:  71790100.62\n"
          ]
        }
      ]
    },
    {
      "cell_type": "code",
      "source": [
        "monthly_revenue = df.groupby(df['date'].dt.to_period('M'))['amount'].sum()\n",
        "print(monthly_revenue)"
      ],
      "metadata": {
        "colab": {
          "base_uri": "https://localhost:8080/"
        },
        "id": "upIThVVmSI7C",
        "outputId": "5bddd2d8-74eb-47b9-b93c-bd464cae058b"
      },
      "execution_count": 823,
      "outputs": [
        {
          "output_type": "stream",
          "name": "stdout",
          "text": [
            "date\n",
            "2022-03       95432.00\n",
            "2022-04    26285730.62\n",
            "2022-05    23987615.00\n",
            "2022-06    21421323.00\n",
            "Freq: M, Name: amount, dtype: float64\n"
          ]
        }
      ]
    },
    {
      "cell_type": "code",
      "source": [
        "weekly_revenue = df.groupby(df['date'].dt.day_name())['amount'].sum()\n",
        "print(weekly_revenue)"
      ],
      "metadata": {
        "colab": {
          "base_uri": "https://localhost:8080/"
        },
        "id": "sI3MoZPtSPW0",
        "outputId": "6d929f4f-ab8c-42b2-d1fd-e40f4ad303b5"
      },
      "execution_count": 824,
      "outputs": [
        {
          "output_type": "stream",
          "name": "stdout",
          "text": [
            "date\n",
            "Friday        9864498.00\n",
            "Monday       10302034.00\n",
            "Saturday     10305608.62\n",
            "Sunday       11013448.00\n",
            "Thursday      9492757.00\n",
            "Tuesday      10492193.00\n",
            "Wednesday    10319562.00\n",
            "Name: amount, dtype: float64\n"
          ]
        }
      ]
    },
    {
      "cell_type": "code",
      "source": [
        "df.to_csv('sales_dataset_cleaned.csv', index=False)"
      ],
      "metadata": {
        "id": "yBH7WQfYqoSf"
      },
      "execution_count": 825,
      "outputs": []
    },
    {
      "cell_type": "code",
      "source": [],
      "metadata": {
        "id": "Ep5PMf2LR-kR"
      },
      "execution_count": 825,
      "outputs": []
    }
  ]
}