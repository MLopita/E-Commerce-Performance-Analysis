{
  "nbformat": 4,
  "nbformat_minor": 0,
  "metadata": {
    "colab": {
      "provenance": [],
      "authorship_tag": "ABX9TyNP6IqJDvcWbvnEAu05hw+o",
      "include_colab_link": true
    },
    "kernelspec": {
      "name": "python3",
      "display_name": "Python 3"
    },
    "language_info": {
      "name": "python"
    }
  },
  "cells": [
    {
      "cell_type": "markdown",
      "metadata": {
        "id": "view-in-github",
        "colab_type": "text"
      },
      "source": [
        "<a href=\"https://colab.research.google.com/github/MLopita/E-Commerce-Performance-Analysis/blob/main/Lopita_Mishra_test.ipynb\" target=\"_parent\"><img src=\"https://colab.research.google.com/assets/colab-badge.svg\" alt=\"Open In Colab\"/></a>"
      ]
    },
    {
      "cell_type": "code",
      "execution_count": 653,
      "metadata": {
        "id": "B0taEz8tqp-I"
      },
      "outputs": [],
      "source": [
        "import pandas as pd\n",
        "import numpy as np"
      ]
    },
    {
      "cell_type": "code",
      "source": [
        "df= pd.read_csv(\"/content/sales_Dataset (1).csv\")"
      ],
      "metadata": {
        "colab": {
          "base_uri": "https://localhost:8080/",
          "height": 460
        },
        "id": "3GvaK6ZTwMRq",
        "outputId": "8d18e61c-14bd-4794-e9d0-83c4f5c23697"
      },
      "execution_count": 654,
      "outputs": [
        {
          "output_type": "error",
          "ename": "ParserError",
          "evalue": "Error tokenizing data. C error: EOF inside string starting at row 48822",
          "traceback": [
            "\u001b[0;31m---------------------------------------------------------------------------\u001b[0m",
            "\u001b[0;31mParserError\u001b[0m                               Traceback (most recent call last)",
            "\u001b[0;32m/tmp/ipython-input-2175671268.py\u001b[0m in \u001b[0;36m<cell line: 0>\u001b[0;34m()\u001b[0m\n\u001b[0;32m----> 1\u001b[0;31m \u001b[0mdf\u001b[0m\u001b[0;34m=\u001b[0m \u001b[0mpd\u001b[0m\u001b[0;34m.\u001b[0m\u001b[0mread_csv\u001b[0m\u001b[0;34m(\u001b[0m\u001b[0;34m\"/content/sales_Dataset (1).csv\"\u001b[0m\u001b[0;34m)\u001b[0m\u001b[0;34m\u001b[0m\u001b[0;34m\u001b[0m\u001b[0m\n\u001b[0m",
            "\u001b[0;32m/usr/local/lib/python3.12/dist-packages/pandas/io/parsers/readers.py\u001b[0m in \u001b[0;36mread_csv\u001b[0;34m(filepath_or_buffer, sep, delimiter, header, names, index_col, usecols, dtype, engine, converters, true_values, false_values, skipinitialspace, skiprows, skipfooter, nrows, na_values, keep_default_na, na_filter, verbose, skip_blank_lines, parse_dates, infer_datetime_format, keep_date_col, date_parser, date_format, dayfirst, cache_dates, iterator, chunksize, compression, thousands, decimal, lineterminator, quotechar, quoting, doublequote, escapechar, comment, encoding, encoding_errors, dialect, on_bad_lines, delim_whitespace, low_memory, memory_map, float_precision, storage_options, dtype_backend)\u001b[0m\n\u001b[1;32m   1024\u001b[0m     \u001b[0mkwds\u001b[0m\u001b[0;34m.\u001b[0m\u001b[0mupdate\u001b[0m\u001b[0;34m(\u001b[0m\u001b[0mkwds_defaults\u001b[0m\u001b[0;34m)\u001b[0m\u001b[0;34m\u001b[0m\u001b[0;34m\u001b[0m\u001b[0m\n\u001b[1;32m   1025\u001b[0m \u001b[0;34m\u001b[0m\u001b[0m\n\u001b[0;32m-> 1026\u001b[0;31m     \u001b[0;32mreturn\u001b[0m \u001b[0m_read\u001b[0m\u001b[0;34m(\u001b[0m\u001b[0mfilepath_or_buffer\u001b[0m\u001b[0;34m,\u001b[0m \u001b[0mkwds\u001b[0m\u001b[0;34m)\u001b[0m\u001b[0;34m\u001b[0m\u001b[0;34m\u001b[0m\u001b[0m\n\u001b[0m\u001b[1;32m   1027\u001b[0m \u001b[0;34m\u001b[0m\u001b[0m\n\u001b[1;32m   1028\u001b[0m \u001b[0;34m\u001b[0m\u001b[0m\n",
            "\u001b[0;32m/usr/local/lib/python3.12/dist-packages/pandas/io/parsers/readers.py\u001b[0m in \u001b[0;36m_read\u001b[0;34m(filepath_or_buffer, kwds)\u001b[0m\n\u001b[1;32m    624\u001b[0m \u001b[0;34m\u001b[0m\u001b[0m\n\u001b[1;32m    625\u001b[0m     \u001b[0;32mwith\u001b[0m \u001b[0mparser\u001b[0m\u001b[0;34m:\u001b[0m\u001b[0;34m\u001b[0m\u001b[0;34m\u001b[0m\u001b[0m\n\u001b[0;32m--> 626\u001b[0;31m         \u001b[0;32mreturn\u001b[0m \u001b[0mparser\u001b[0m\u001b[0;34m.\u001b[0m\u001b[0mread\u001b[0m\u001b[0;34m(\u001b[0m\u001b[0mnrows\u001b[0m\u001b[0;34m)\u001b[0m\u001b[0;34m\u001b[0m\u001b[0;34m\u001b[0m\u001b[0m\n\u001b[0m\u001b[1;32m    627\u001b[0m \u001b[0;34m\u001b[0m\u001b[0m\n\u001b[1;32m    628\u001b[0m \u001b[0;34m\u001b[0m\u001b[0m\n",
            "\u001b[0;32m/usr/local/lib/python3.12/dist-packages/pandas/io/parsers/readers.py\u001b[0m in \u001b[0;36mread\u001b[0;34m(self, nrows)\u001b[0m\n\u001b[1;32m   1921\u001b[0m                     \u001b[0mcolumns\u001b[0m\u001b[0;34m,\u001b[0m\u001b[0;34m\u001b[0m\u001b[0;34m\u001b[0m\u001b[0m\n\u001b[1;32m   1922\u001b[0m                     \u001b[0mcol_dict\u001b[0m\u001b[0;34m,\u001b[0m\u001b[0;34m\u001b[0m\u001b[0;34m\u001b[0m\u001b[0m\n\u001b[0;32m-> 1923\u001b[0;31m                 \u001b[0;34m)\u001b[0m \u001b[0;34m=\u001b[0m \u001b[0mself\u001b[0m\u001b[0;34m.\u001b[0m\u001b[0m_engine\u001b[0m\u001b[0;34m.\u001b[0m\u001b[0mread\u001b[0m\u001b[0;34m(\u001b[0m  \u001b[0;31m# type: ignore[attr-defined]\u001b[0m\u001b[0;34m\u001b[0m\u001b[0;34m\u001b[0m\u001b[0m\n\u001b[0m\u001b[1;32m   1924\u001b[0m                     \u001b[0mnrows\u001b[0m\u001b[0;34m\u001b[0m\u001b[0;34m\u001b[0m\u001b[0m\n\u001b[1;32m   1925\u001b[0m                 )\n",
            "\u001b[0;32m/usr/local/lib/python3.12/dist-packages/pandas/io/parsers/c_parser_wrapper.py\u001b[0m in \u001b[0;36mread\u001b[0;34m(self, nrows)\u001b[0m\n\u001b[1;32m    232\u001b[0m         \u001b[0;32mtry\u001b[0m\u001b[0;34m:\u001b[0m\u001b[0;34m\u001b[0m\u001b[0;34m\u001b[0m\u001b[0m\n\u001b[1;32m    233\u001b[0m             \u001b[0;32mif\u001b[0m \u001b[0mself\u001b[0m\u001b[0;34m.\u001b[0m\u001b[0mlow_memory\u001b[0m\u001b[0;34m:\u001b[0m\u001b[0;34m\u001b[0m\u001b[0;34m\u001b[0m\u001b[0m\n\u001b[0;32m--> 234\u001b[0;31m                 \u001b[0mchunks\u001b[0m \u001b[0;34m=\u001b[0m \u001b[0mself\u001b[0m\u001b[0;34m.\u001b[0m\u001b[0m_reader\u001b[0m\u001b[0;34m.\u001b[0m\u001b[0mread_low_memory\u001b[0m\u001b[0;34m(\u001b[0m\u001b[0mnrows\u001b[0m\u001b[0;34m)\u001b[0m\u001b[0;34m\u001b[0m\u001b[0;34m\u001b[0m\u001b[0m\n\u001b[0m\u001b[1;32m    235\u001b[0m                 \u001b[0;31m# destructive to chunks\u001b[0m\u001b[0;34m\u001b[0m\u001b[0;34m\u001b[0m\u001b[0m\n\u001b[1;32m    236\u001b[0m                 \u001b[0mdata\u001b[0m \u001b[0;34m=\u001b[0m \u001b[0m_concatenate_chunks\u001b[0m\u001b[0;34m(\u001b[0m\u001b[0mchunks\u001b[0m\u001b[0;34m)\u001b[0m\u001b[0;34m\u001b[0m\u001b[0;34m\u001b[0m\u001b[0m\n",
            "\u001b[0;32mparsers.pyx\u001b[0m in \u001b[0;36mpandas._libs.parsers.TextReader.read_low_memory\u001b[0;34m()\u001b[0m\n",
            "\u001b[0;32mparsers.pyx\u001b[0m in \u001b[0;36mpandas._libs.parsers.TextReader._read_rows\u001b[0;34m()\u001b[0m\n",
            "\u001b[0;32mparsers.pyx\u001b[0m in \u001b[0;36mpandas._libs.parsers.TextReader._tokenize_rows\u001b[0;34m()\u001b[0m\n",
            "\u001b[0;32mparsers.pyx\u001b[0m in \u001b[0;36mpandas._libs.parsers.TextReader._check_tokenize_status\u001b[0;34m()\u001b[0m\n",
            "\u001b[0;32mparsers.pyx\u001b[0m in \u001b[0;36mpandas._libs.parsers.raise_parser_error\u001b[0;34m()\u001b[0m\n",
            "\u001b[0;31mParserError\u001b[0m: Error tokenizing data. C error: EOF inside string starting at row 48822"
          ]
        }
      ]
    },
    {
      "cell_type": "code",
      "source": [
        "df.info()"
      ],
      "metadata": {
        "id": "dwIBNhnJwdzK"
      },
      "execution_count": null,
      "outputs": []
    },
    {
      "cell_type": "code",
      "source": [
        "df.head()"
      ],
      "metadata": {
        "id": "ng2fa15P1YBH"
      },
      "execution_count": null,
      "outputs": []
    },
    {
      "cell_type": "code",
      "source": [
        "df.info()"
      ],
      "metadata": {
        "id": "sMMsbT3nc9Xw"
      },
      "execution_count": null,
      "outputs": []
    },
    {
      "cell_type": "markdown",
      "source": [
        "**Data cleaning**"
      ],
      "metadata": {
        "id": "_bEm3Z9movZg"
      }
    },
    {
      "cell_type": "code",
      "source": [
        "df.drop_duplicates(inplace= True)"
      ],
      "metadata": {
        "id": "raHI6SJLJGko"
      },
      "execution_count": null,
      "outputs": []
    },
    {
      "cell_type": "code",
      "source": [
        "print(df['Date'].head())\n",
        "print(df['Date'].dtype)"
      ],
      "metadata": {
        "id": "xK3fDi4O73Dp"
      },
      "execution_count": null,
      "outputs": []
    },
    {
      "cell_type": "code",
      "source": [
        "df.columns = df.columns.str.strip().str.lower().str.replace(' ', '_').str.replace('-', '_')"
      ],
      "metadata": {
        "id": "wm3vacIe7u2C"
      },
      "execution_count": null,
      "outputs": []
    },
    {
      "cell_type": "code",
      "source": [
        "print(\"Nulls in Order ID:\", df['order_id'].isnull().sum())\n",
        "print(\"Duplicate Order IDs:\", df['order_id'].duplicated().sum())"
      ],
      "metadata": {
        "id": "C3xgbyyLWbgM"
      },
      "execution_count": null,
      "outputs": []
    },
    {
      "cell_type": "code",
      "source": [
        "df['order_id'] = df['order_id'].astype(str).str.strip()"
      ],
      "metadata": {
        "id": "hkZlAa3AWyAs"
      },
      "execution_count": null,
      "outputs": []
    },
    {
      "cell_type": "code",
      "source": [
        "print(df['date'].unique()[::20])"
      ],
      "metadata": {
        "id": "WaHYqNWsqMsc"
      },
      "execution_count": null,
      "outputs": []
    },
    {
      "cell_type": "code",
      "source": [
        "df['date'] = pd.to_datetime(df['date'], errors='coerce')\n",
        "print(\"Invalid/Missing Dates:\", df['date'].isnull().sum())"
      ],
      "metadata": {
        "id": "FeEF3mlUW0Y0"
      },
      "execution_count": null,
      "outputs": []
    },
    {
      "cell_type": "code",
      "source": [
        "print(\"Earliest Date:\", df['date'].min())\n",
        "print(\"Latest Date:\", df['date'].max())\n",
        "\n",
        "print(df['date'].dt.year.value_counts())"
      ],
      "metadata": {
        "id": "wtyL9EOxq6Zv"
      },
      "execution_count": null,
      "outputs": []
    },
    {
      "cell_type": "code",
      "source": [
        "df['status'] = df['status'].fillna(\"Unknown\")\n",
        "\n",
        "df['status'] = df['status'].astype(str).str.strip().str.title()\n",
        "\n",
        "print(df['status'].unique())"
      ],
      "metadata": {
        "id": "1jDuCjbsXSEO"
      },
      "execution_count": null,
      "outputs": []
    },
    {
      "cell_type": "code",
      "source": [
        "status_mapping = {\n",
        "    'Cancelled': 'Cancelled',\n",
        "    'Shipped': 'Shipped',\n",
        "    'Shipping': 'Shipped',\n",
        "    'Shipped - Out For Delivery': 'Out for Delivery',\n",
        "    'Shipped - Picked Up': 'Picked Up',\n",
        "    'Shipped - Delivered To Buyer': 'Delivered',\n",
        "    'Shipped - Returned To Seller': 'Returned',\n",
        "    'Shipped - Returning To Seller': 'Returned',\n",
        "    'Shipped - Rejected By Buyer': 'Rejected',\n",
        "    'Shipped - Damaged': 'Damaged',\n",
        "    'Shipped - Lost In Transit': 'Lost',\n",
        "    'Pending': 'Pending',\n",
        "    'Pending - Waiting For Pick Up': 'Pending'\n",
        "}\n",
        "\n",
        "df['status'] = df['status'].map(status_mapping).fillna('Other')\n",
        "\n",
        "print(df['status'].unique())"
      ],
      "metadata": {
        "id": "WYzOUvA1Xyfh"
      },
      "execution_count": null,
      "outputs": []
    },
    {
      "cell_type": "code",
      "source": [
        "print(df['fulfilment'].unique())"
      ],
      "metadata": {
        "id": "ZJK2rKM9aNOO"
      },
      "execution_count": null,
      "outputs": []
    },
    {
      "cell_type": "code",
      "source": [
        "df['fulfilment'] = df['fulfilment'].fillna(\"Unknown\")\n",
        "df['fulfilment'] = df['fulfilment'].astype(str).str.strip().str.title()\n",
        "print(df['fulfilment'].unique())"
      ],
      "metadata": {
        "id": "XTYlBchNZtd7"
      },
      "execution_count": null,
      "outputs": []
    },
    {
      "cell_type": "code",
      "source": [
        "print(df['sales_channel'].unique())"
      ],
      "metadata": {
        "id": "y4B3NFgLdd_I"
      },
      "execution_count": null,
      "outputs": []
    },
    {
      "cell_type": "code",
      "source": [
        "df['sales_channel'] = df['sales_channel'].fillna(\"Unknown\")\n",
        "df['sales_channel'] = df['sales_channel'].astype(str).str.strip().str.title()\n",
        "\n",
        "print(df['sales_channel'].unique())"
      ],
      "metadata": {
        "id": "KvAuaMEDdTVk"
      },
      "execution_count": null,
      "outputs": []
    },
    {
      "cell_type": "code",
      "source": [
        "print(df['ship_service_level'].unique())"
      ],
      "metadata": {
        "id": "97y_mdSwdrk7"
      },
      "execution_count": null,
      "outputs": []
    },
    {
      "cell_type": "code",
      "source": [
        "df['ship_service_level'] = df['ship_service_level'].fillna(\"Unknown\")\n",
        "df['ship_service_level'] = df['ship_service_level'].astype(str).str.strip().str.title()\n",
        "\n",
        "print(df['ship_service_level'].unique())"
      ],
      "metadata": {
        "id": "CnglKxqmdh0x"
      },
      "execution_count": null,
      "outputs": []
    },
    {
      "cell_type": "code",
      "source": [
        "print(df['style'].nunique())"
      ],
      "metadata": {
        "id": "F1HEQ8P-eBW-"
      },
      "execution_count": null,
      "outputs": []
    },
    {
      "cell_type": "code",
      "source": [
        "df['style'] = df['style'].fillna(\"Unknown\")\n",
        "df['style'] = df['style'].astype(str)\n",
        "\n",
        "print(df['style'].unique()[:20])"
      ],
      "metadata": {
        "id": "5fdWGNoXdzS3"
      },
      "execution_count": null,
      "outputs": []
    },
    {
      "cell_type": "code",
      "source": [
        "df['sku'] = df['sku'].astype(str)\n",
        "print(\"Nulls in SKU:\", df['sku'].isnull().sum())\n",
        "print(\"Unique SKUs:\", df['sku'].nunique())"
      ],
      "metadata": {
        "id": "SMqqhb2GeUvS"
      },
      "execution_count": null,
      "outputs": []
    },
    {
      "cell_type": "code",
      "source": [
        "print(df['category'].nunique())"
      ],
      "metadata": {
        "id": "hfbIINYweqNP"
      },
      "execution_count": null,
      "outputs": []
    },
    {
      "cell_type": "code",
      "source": [
        "df['category'] = df['category'].fillna(\"Unknown\")\n",
        "df['category'] = df['category'].astype(str).str.strip().str.title()\n",
        "\n",
        "print(df['category'].unique())\n"
      ],
      "metadata": {
        "id": "Sbz_VE9yeeJ0"
      },
      "execution_count": null,
      "outputs": []
    },
    {
      "cell_type": "code",
      "source": [
        "print(df['size'].unique())"
      ],
      "metadata": {
        "id": "WUypkMwTgSek"
      },
      "execution_count": null,
      "outputs": []
    },
    {
      "cell_type": "code",
      "source": [
        "df['size'] = df['size'].fillna(\"Unknown\")\n",
        "\n",
        "df['size'] = df['size'].astype(str).str.strip().str.upper()\n",
        "\n",
        "print(df['size'].unique())"
      ],
      "metadata": {
        "id": "Z3VuE-_GfYVT"
      },
      "execution_count": null,
      "outputs": []
    },
    {
      "cell_type": "code",
      "source": [
        "print(df['asin'].nunique())"
      ],
      "metadata": {
        "id": "JmcaWFEGoVwS"
      },
      "execution_count": null,
      "outputs": []
    },
    {
      "cell_type": "code",
      "source": [
        "print(df['courier_status'].unique())"
      ],
      "metadata": {
        "id": "UVfKHj4vIY3U"
      },
      "execution_count": null,
      "outputs": []
    },
    {
      "cell_type": "code",
      "source": [
        "df['courier_status'] = df['courier_status'].fillna('Unknown')\n",
        "df['courier_status'] = df['courier_status'].astype(str)"
      ],
      "metadata": {
        "id": "4GMmdTpzIe7T"
      },
      "execution_count": null,
      "outputs": []
    },
    {
      "cell_type": "code",
      "source": [
        "print(df['qty'].unique())"
      ],
      "metadata": {
        "id": "GcO4kVKmhOTa"
      },
      "execution_count": null,
      "outputs": []
    },
    {
      "cell_type": "code",
      "source": [
        "df['qty'] = pd.to_numeric(df['qty'], errors='coerce')\n",
        "df['qty'] = df['qty'].fillna(df['qty'].median())\n",
        "df['qty'] = df['qty'].astype(int)\n",
        "\n",
        "print(df['qty'].describe())"
      ],
      "metadata": {
        "id": "i0NgBGCXgWzB"
      },
      "execution_count": null,
      "outputs": []
    },
    {
      "cell_type": "code",
      "source": [
        "print(df['currency'].unique())"
      ],
      "metadata": {
        "id": "Af-bJr_JiC6V"
      },
      "execution_count": null,
      "outputs": []
    },
    {
      "cell_type": "code",
      "source": [
        "df['currency'] = df['currency'].fillna(\"Unknown\")\n",
        "\n",
        "df['currency'] = df['currency'].astype(str).str.strip().str.upper()\n",
        "\n",
        "print(df['currency'].unique())"
      ],
      "metadata": {
        "id": "2Q3yssqMh6Rm"
      },
      "execution_count": null,
      "outputs": []
    },
    {
      "cell_type": "code",
      "source": [
        "print(df['amount'].nunique())"
      ],
      "metadata": {
        "id": "2XS0OF6XjOWk"
      },
      "execution_count": null,
      "outputs": []
    },
    {
      "cell_type": "code",
      "source": [
        "df['amount'] = pd.to_numeric(df['amount'], errors='coerce')\n",
        "median_value = df.loc[df['amount'] != 0, 'amount'].median()\n",
        "df['amount'] = df['amount'].replace(0, median_value)\n",
        "df['amount'] = df['amount'].fillna(median_value)\n",
        "\n",
        "print(df['amount'].describe())\n"
      ],
      "metadata": {
        "id": "CtFh0De8iIny"
      },
      "execution_count": null,
      "outputs": []
    },
    {
      "cell_type": "code",
      "source": [
        "df['ship_city'] = df['ship_city'].fillna(\"Unknown\")\n",
        "df['ship_city'] = df['ship_city'].astype(str).str.strip().str.title()\n",
        "\n",
        "print(df['ship_city'].unique()[:20])"
      ],
      "metadata": {
        "id": "Ck4ZNoNmjblT"
      },
      "execution_count": null,
      "outputs": []
    },
    {
      "cell_type": "code",
      "source": [
        "print(df['ship_state'].nunique())"
      ],
      "metadata": {
        "id": "NJlQCvOVjlHv"
      },
      "execution_count": null,
      "outputs": []
    },
    {
      "cell_type": "code",
      "source": [
        "df['ship_state'] = df['ship_state'].fillna(\"Unknown\")\n",
        "df['ship_state'] = df['ship_state'].astype(str).str.strip().str.title()\n",
        "\n",
        "print(df['ship_state'].unique()[:48])"
      ],
      "metadata": {
        "id": "p2Pur2Ekjd8v"
      },
      "execution_count": null,
      "outputs": []
    },
    {
      "cell_type": "code",
      "source": [
        "state_mapping = {\n",
        "    'Rajshthan': 'Rajasthan',\n",
        "    'Rajsthan': 'Rajasthan',\n",
        "    'Rj': 'Rajasthan',\n",
        "    'Orissa': 'Odisha',\n",
        "    'Pondicherry': 'Puducherry',\n",
        "    'Pb': 'Punjab',\n",
        "    'Punjab/Mohali/Zirakpur': 'Punjab',\n",
        "    'Nl': 'Nagaland',\n",
        "    'Ar': 'Arunachal Pradesh',\n",
        "    'New Delhi': 'Delhi',\n",
        "    'Apo': 'Unknown'\n",
        "}\n",
        "\n",
        "df['ship_state'] = df['ship_state'].replace(state_mapping)\n",
        "\n",
        "print(df['ship_state'].nunique())\n",
        "print(df['ship_state'].unique())"
      ],
      "metadata": {
        "id": "IL6NO9lyj-4g"
      },
      "execution_count": null,
      "outputs": []
    },
    {
      "cell_type": "code",
      "source": [
        "print(df['ship_country'].nunique())"
      ],
      "metadata": {
        "id": "BgN6ad1nkQum"
      },
      "execution_count": null,
      "outputs": []
    },
    {
      "cell_type": "code",
      "source": [
        "df['ship_country'] = df['ship_country'].fillna(\"Unknown\")\n",
        "df['ship_country'] = df['ship_country'].astype(str).str.strip().str.upper()\n",
        "\n",
        "print(df['ship_country'].unique())"
      ],
      "metadata": {
        "id": "1CG-w82HkDnL"
      },
      "execution_count": null,
      "outputs": []
    },
    {
      "cell_type": "code",
      "source": [
        "print(df['ship_postal_code'].unique()[:20])"
      ],
      "metadata": {
        "id": "HZoiYreblOeU"
      },
      "execution_count": null,
      "outputs": []
    },
    {
      "cell_type": "code",
      "source": [
        "df['ship_postal_code'] = pd.to_numeric(df['ship_postal_code'], errors='coerce')  # make numeric\n",
        "df['ship_postal_code'] = df['ship_postal_code'].fillna(-1).astype(int)\n",
        "df['ship_postal_code'] = df['ship_postal_code'].fillna(\"Unknown\")\n",
        "\n",
        "print(df['ship_postal_code'].unique()[:20])"
      ],
      "metadata": {
        "id": "BIBuma_RlEQk"
      },
      "execution_count": null,
      "outputs": []
    },
    {
      "cell_type": "code",
      "source": [
        "print(df['promotion_ids'].nunique())"
      ],
      "metadata": {
        "id": "CihJ3rR5nR94"
      },
      "execution_count": null,
      "outputs": []
    },
    {
      "cell_type": "code",
      "source": [
        "df['promotion_ids'] = df['promotion_ids'].astype(str).str.strip()\n",
        "df['promotion_ids'] = df['promotion_ids'].replace(['nan', 'NaN', 'None', ''], 'None')\n",
        "\n",
        "print(df['promotion_ids'].unique()[:20])"
      ],
      "metadata": {
        "id": "9NEep213nMPP"
      },
      "execution_count": null,
      "outputs": []
    },
    {
      "cell_type": "code",
      "source": [
        "print(df['b2b'].unique())"
      ],
      "metadata": {
        "id": "oPjfCCNrnkgh"
      },
      "execution_count": null,
      "outputs": []
    },
    {
      "cell_type": "code",
      "source": [
        "df['fulfilled_by'] = df['fulfilled_by'].fillna(\"Unknown\")\n",
        "df['fulfilled_by'] = df['fulfilled_by'].astype(str).str.strip().str.title()\n",
        "\n",
        "print(df['fulfilled_by'].unique())"
      ],
      "metadata": {
        "id": "r_a4-N9Cnw7s"
      },
      "execution_count": null,
      "outputs": []
    },
    {
      "cell_type": "code",
      "source": [
        "df.drop(columns=[\"unnamed:_22\"], inplace= True)"
      ],
      "metadata": {
        "id": "ths9C97Wn1Qi"
      },
      "execution_count": null,
      "outputs": []
    },
    {
      "cell_type": "code",
      "source": [
        "df.info()"
      ],
      "metadata": {
        "id": "8TMw-Q0wmjoI"
      },
      "execution_count": null,
      "outputs": []
    },
    {
      "cell_type": "markdown",
      "source": [
        "**Financial Performance Analysis**"
      ],
      "metadata": {
        "id": "5YIy1sr3dow5"
      }
    },
    {
      "cell_type": "markdown",
      "source": [
        "Total Revenue Trend"
      ],
      "metadata": {
        "id": "Hn5D7rHbp4wx"
      }
    },
    {
      "cell_type": "code",
      "source": [
        "import matplotlib.pyplot as plt\n",
        "\n",
        "df['year_month'] = df['date'].dt.to_period('M')\n",
        "revenue_trend = df.groupby('year_month')['amount'].sum()\n",
        "\n",
        "revenue_trend.plot(kind='line', figsize=(10,5), marker='o')\n",
        "plt.title(\"Total Revenue Trend Over Time\")\n",
        "plt.xlabel(\"Month-Year\")\n",
        "plt.ylabel(\"Revenue\")\n",
        "plt.show()\n"
      ],
      "metadata": {
        "id": "QMawDOHIpt3n"
      },
      "execution_count": null,
      "outputs": []
    },
    {
      "cell_type": "markdown",
      "source": [
        "Best Selling Products"
      ],
      "metadata": {
        "id": "GkkemmEHs3O7"
      }
    },
    {
      "cell_type": "code",
      "source": [
        "category_sales = df.groupby('category')['amount'].sum().sort_values(ascending=False).head(10)\n",
        "print(category_sales)\n",
        "\n",
        "category_sales.plot(kind='bar', figsize=(10,5))\n",
        "plt.title(\"Top 10 Best-Selling Categories\")\n",
        "plt.ylabel(\"Revenue\")\n",
        "plt.show()"
      ],
      "metadata": {
        "id": "gvROHDOKtC9v"
      },
      "execution_count": null,
      "outputs": []
    },
    {
      "cell_type": "code",
      "source": [
        "best_selling = df.groupby('category')['qty'].sum().sort_values(ascending=False)\n",
        "print(best_selling.head(10))"
      ],
      "metadata": {
        "id": "Xw2DkNRWBia8"
      },
      "execution_count": null,
      "outputs": []
    },
    {
      "cell_type": "code",
      "source": [
        "monthly_sales = df.groupby(df['date'].dt.month)['amount'].sum()\n",
        "print(monthly_sales)\n",
        "\n",
        "monthly_sales.plot(kind='bar', title='Monthly Sales Trends', xlabel='Month', ylabel='Revenue')"
      ],
      "metadata": {
        "id": "CqRuMS_VB9co"
      },
      "execution_count": null,
      "outputs": []
    },
    {
      "cell_type": "markdown",
      "source": [
        "Average Order Value"
      ],
      "metadata": {
        "id": "zIgTrJWwtaXs"
      }
    },
    {
      "cell_type": "code",
      "source": [
        "total_revenue = df['amount'].sum()\n",
        "total_orders = df['order_id'].nunique()\n",
        "aov = total_revenue / total_orders\n",
        "\n",
        "print(\"Average Order Value (AOV):\", round(aov,2))"
      ],
      "metadata": {
        "id": "yy0sTj4vs2vS"
      },
      "execution_count": null,
      "outputs": []
    },
    {
      "cell_type": "markdown",
      "source": [
        "**Customer Insights Analysis**"
      ],
      "metadata": {
        "id": "Vut5KSAKteF0"
      }
    },
    {
      "cell_type": "markdown",
      "source": [
        "Top Performing locations by Sale"
      ],
      "metadata": {
        "id": "emPk8WyMtnW1"
      }
    },
    {
      "cell_type": "code",
      "source": [
        "state_sales = df.groupby('ship_state')['amount'].sum().sort_values(ascending=False).head(10)\n",
        "print(state_sales)\n",
        "\n",
        "state_sales.plot(kind='bar', figsize=(10,5))\n",
        "plt.title(\"Top 10 States by Revenue\")\n",
        "plt.ylabel(\"Revenue\")\n",
        "plt.show()"
      ],
      "metadata": {
        "id": "3R4eTPgwtq7t"
      },
      "execution_count": null,
      "outputs": []
    },
    {
      "cell_type": "code",
      "source": [
        "top_cities = df.groupby('ship_city')['amount'].sum().sort_values(ascending=False)\n",
        "print(top_cities.head(10))"
      ],
      "metadata": {
        "id": "uRCtgoErCkG0"
      },
      "execution_count": null,
      "outputs": []
    },
    {
      "cell_type": "markdown",
      "source": [
        "Cancellation Rate"
      ],
      "metadata": {
        "id": "xmK0WrDEtvjd"
      }
    },
    {
      "cell_type": "code",
      "source": [
        "cancelled_orders = df[df['courier_status']==\"Cancelled\"]['order_id'].nunique()\n",
        "cancellation_rate = (cancelled_orders / total_orders) * 100\n",
        "\n",
        "print(\"Cancellation Rate: \", round(cancellation_rate,2), \"%\")"
      ],
      "metadata": {
        "id": "L7qwaGFRtzxA"
      },
      "execution_count": null,
      "outputs": []
    },
    {
      "cell_type": "markdown",
      "source": [
        "B2B vs B2C Revenue"
      ],
      "metadata": {
        "id": "P0bPtFn9t1b5"
      }
    },
    {
      "cell_type": "code",
      "source": [
        "b2b_sales = df.groupby('b2b')['amount'].sum()\n",
        "print(b2b_sales)\n",
        "\n",
        "b2b_sales.plot(kind='bar', figsize=(6,4))\n",
        "plt.title(\"B2B vs B2C Revenue\")\n",
        "plt.ylabel(\"Revenue\")\n",
        "plt.show()"
      ],
      "metadata": {
        "id": "r0A7QfCkt_uR"
      },
      "execution_count": null,
      "outputs": []
    },
    {
      "cell_type": "markdown",
      "source": [
        "**Logistics and Fulfilment optimization**"
      ],
      "metadata": {
        "id": "6xHZRx0VuHVM"
      }
    },
    {
      "cell_type": "markdown",
      "source": [
        "Fulfilment Comparsion"
      ],
      "metadata": {
        "id": "bH4VWb3yuTLR"
      }
    },
    {
      "cell_type": "code",
      "source": [
        "fulfillment_sales = df.groupby('fulfilment')['amount'].sum().sort_values(ascending=False)\n",
        "print(fulfillment_sales)\n",
        "\n",
        "fulfillment_sales.plot(kind='bar', figsize=(8,5))\n",
        "plt.title(\"Revenue by fulfillment Method\")\n",
        "plt.ylabel(\"Revenue\")\n",
        "plt.show()"
      ],
      "metadata": {
        "id": "4EMqSDPbuZqM"
      },
      "execution_count": null,
      "outputs": []
    },
    {
      "cell_type": "markdown",
      "source": [
        "Status Distribution"
      ],
      "metadata": {
        "id": "tOrPQufBurME"
      }
    },
    {
      "cell_type": "code",
      "source": [
        "status_counts = df['status'].value_counts()\n",
        "print(status_counts)\n",
        "\n",
        "status_counts.plot(kind='bar', figsize=(10,5))\n",
        "plt.title(\"Order Status Distribution\")\n",
        "plt.xlabel(\"Status\")\n",
        "plt.ylabel(\"Count\")\n",
        "plt.show()"
      ],
      "metadata": {
        "id": "6bsiB9sjuvHp"
      },
      "execution_count": null,
      "outputs": []
    },
    {
      "cell_type": "markdown",
      "source": [
        "**Product & Inventory optimization**"
      ],
      "metadata": {
        "id": "BEXKNlxavrPy"
      }
    },
    {
      "cell_type": "markdown",
      "source": [
        "High Demand product Categories"
      ],
      "metadata": {
        "id": "_L3Kwh1kwIx6"
      }
    },
    {
      "cell_type": "code",
      "source": [
        "top_categories = df.groupby('category')['qty'].sum().sort_values(ascending=False)\n",
        "print(top_categories.head(10))"
      ],
      "metadata": {
        "id": "sgXZ7bwBEW6M"
      },
      "execution_count": null,
      "outputs": []
    },
    {
      "cell_type": "markdown",
      "source": [
        "Average Quantity Ordered"
      ],
      "metadata": {
        "id": "-9Dlm5EhEi3O"
      }
    },
    {
      "cell_type": "code",
      "source": [
        "avg_quantity = df['qty'].mean()\n",
        "avg_quantity_rounded = round(avg_quantity)\n",
        "print(\"Average Quantity Ordered per Product:\", avg_quantity_rounded)"
      ],
      "metadata": {
        "id": "R5c6KHIjEfOs"
      },
      "execution_count": null,
      "outputs": []
    },
    {
      "cell_type": "markdown",
      "source": [
        "**Customer Satisfaction & Returns Analysis**"
      ],
      "metadata": {
        "id": "AyiXHOzpFF04"
      }
    },
    {
      "cell_type": "markdown",
      "source": [
        "High Returns and cancellation rate"
      ],
      "metadata": {
        "id": "m3hH0VMNFI_y"
      }
    },
    {
      "cell_type": "code",
      "source": [
        "returns = df[df['status'].isin(['Cancelled','Returned'])]\n",
        "returns_by_style = returns.groupby('style')['qty'].sum().sort_values(ascending=False)\n",
        "print(returns_by_style.head(10))"
      ],
      "metadata": {
        "id": "A3H0D3gRFNgm"
      },
      "execution_count": null,
      "outputs": []
    },
    {
      "cell_type": "code",
      "source": [
        "return_rate = returns.groupby('category')['qty'].sum() /df.groupby('category')['qty'].sum() * 100\n",
        "print(return_rate.sort_values(ascending=False))"
      ],
      "metadata": {
        "id": "KhDD-f30F3CY"
      },
      "execution_count": null,
      "outputs": []
    },
    {
      "cell_type": "markdown",
      "source": [
        "Problematic products"
      ],
      "metadata": {
        "id": "RUHB7eZSGgeD"
      }
    },
    {
      "cell_type": "code",
      "source": [
        "problem_orders = df[df['status'].isin(['Cancelled','Returned','Refunded'])]\n",
        "\n",
        "problem_products = problem_orders.groupby('style')['qty'].sum().sort_values(ascending=False)\n",
        "print(\"Top 10 Problematic Products (by qty):\")\n",
        "print(problem_products.head(10))\n",
        "\n",
        "problem_categories = problem_orders.groupby('category')['qty'].sum().sort_values(ascending=False)\n",
        "print(\"Top 10 Problematic Categories (by qty):\")\n",
        "print(problem_categories.head(10))"
      ],
      "metadata": {
        "id": "-XS7H_fLGpV2"
      },
      "execution_count": null,
      "outputs": []
    },
    {
      "cell_type": "code",
      "source": [
        "\n",
        "june_orders = df[df['date'].dt.month == 6]\n",
        "\n",
        "\n",
        "total_revenue_june = june_orders['amount'].sum()\n",
        "\n",
        "print(\"Total Revenue Generated in June:\", round(total_revenue_june, 2))"
      ],
      "metadata": {
        "id": "0DMVaYr5_OqP"
      },
      "execution_count": null,
      "outputs": []
    },
    {
      "cell_type": "code",
      "source": [
        "m_set_orders = df[(df['size'] == 'M') & (df['category'] == 'Set')]\n",
        "\n",
        "total_qty_m_set = m_set_orders['qty'].sum()\n",
        "\n",
        "print(\"Total Quantity Sold in Size M from Set:\", total_qty_m_set)"
      ],
      "metadata": {
        "id": "klysY0vF_kRR"
      },
      "execution_count": null,
      "outputs": []
    },
    {
      "cell_type": "code",
      "source": [
        "cancelled_orders = df[df['status'] == 'Cancelled']\n",
        "\n",
        "total_cancelled = len(cancelled_orders)\n",
        "print(\"Total Cancelled Orders:\", total_cancelled)"
      ],
      "metadata": {
        "id": "Gio9nzQO_0ry"
      },
      "execution_count": null,
      "outputs": []
    },
    {
      "cell_type": "code",
      "source": [
        "sales_by_date = df.groupby('date')['amount'].sum()\n",
        "\n",
        "max_sales_date = sales_by_date.idxmax()\n",
        "max_sales_value = sales_by_date.max()\n",
        "\n",
        "print(\"Date with Highest Sales:\", max_sales_date)\n",
        "print(\"Sales Amount on that Date:\", round(max_sales_value, 2))"
      ],
      "metadata": {
        "id": "Z_B0pLlwAkMa"
      },
      "execution_count": null,
      "outputs": []
    },
    {
      "cell_type": "code",
      "source": [
        "may_orders = df[df['date'].dt.month == 5]\n",
        "\n",
        "total_revenue_may = may_orders['amount'].sum()\n",
        "\n",
        "print(\"Total Revenue in May:\", round(total_revenue_may, 2))"
      ],
      "metadata": {
        "id": "1aiInPD2Fkob"
      },
      "execution_count": null,
      "outputs": []
    },
    {
      "cell_type": "code",
      "source": [
        "sales_by_city = df.groupby('ship_city')['amount'].sum().sort_values(ascending=False)\n",
        "\n",
        "second_city = sales_by_city.index[1]\n",
        "second_city_sales = sales_by_city.iloc[1]\n",
        "\n",
        "print(\"City with 2nd Highest Sales:\", second_city)\n",
        "print(\"Sales Amount:\", round(second_city_sales, 2))"
      ],
      "metadata": {
        "id": "stjWnMrjGB9n"
      },
      "execution_count": null,
      "outputs": []
    },
    {
      "cell_type": "code",
      "source": [
        "cancel_rate_by_month = (\n",
        "    df.groupby(df['date'].dt.month)\n",
        "    .apply(lambda x: (x[x['courier_status']=='Cancelled'].shape[0] / x.shape[0]) * 100)\n",
        ")\n",
        "\n",
        "print(cancel_rate_by_month)"
      ],
      "metadata": {
        "id": "wORc2aB58OpV"
      },
      "execution_count": null,
      "outputs": []
    },
    {
      "cell_type": "code",
      "source": [
        "df.to_csv('sales_dataset_cleaned.csv', index=False)"
      ],
      "metadata": {
        "id": "yBH7WQfYqoSf"
      },
      "execution_count": null,
      "outputs": []
    }
  ]
}